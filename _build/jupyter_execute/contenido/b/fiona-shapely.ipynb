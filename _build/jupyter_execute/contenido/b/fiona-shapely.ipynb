{
 "cells": [
  {
   "cell_type": "markdown",
   "id": "6be09609",
   "metadata": {},
   "source": [
    "# Fiona y Shapely: paquetes para lectura, escritura y análisis de datos vectoriales"
   ]
  },
  {
   "cell_type": "markdown",
   "id": "1aa3f92e",
   "metadata": {},
   "source": [
    "## Descripción general"
   ]
  },
  {
   "cell_type": "markdown",
   "id": "11152143",
   "metadata": {},
   "source": [
    "### Fiona"
   ]
  },
  {
   "cell_type": "markdown",
   "id": "b857763f",
   "metadata": {},
   "source": [
    "[Fiona](https://github.com/Toblerity/Fiona) es una biblioteca en Python para la lectura y escritura de datos geoespaciales. Su código está enlazado con [GDAL](https://gdal.org/), desarrollada en C/C++.\n",
    "\n",
    "A diferencia de otras bibliotecas basadas en GDAL (ej. [osgeo.gdal/osgeo.ogr](https://gdal.org/python/), con ejemplos en [Python GDAL/OGR Cookbook](https://pcjericks.github.io/py-gdalogr-cookbook/)), Fiona está diseñada para seguir el estilo estándar de entrada-salida (IO) de Python, mediante protocolos y tipos de datos típicos de Python, tales como archivos, diccionarios, mapeos e iteradores, en lugar de clases específicas de la implementación C/C++ de GDAL.\n",
    "\n",
    "Fiona está hecha para ser \"simple y confiable\". Está integrada con otras bibliotecas geoespaciales de Python como [pyproj](https://github.com/pyproj4/pyproj), [Rtree](https://github.com/Toblerity/rtree) y [Shapely](https://github.com/shapely/shapely)."
   ]
  },
  {
   "cell_type": "markdown",
   "id": "1443ec7d",
   "metadata": {},
   "source": [
    "### Shapely"
   ]
  },
  {
   "cell_type": "markdown",
   "id": "53334e8d",
   "metadata": {},
   "source": [
    "[Shapely](https://github.com/shapely/shapely) es una biblioteca en Python para la manipulación y análisis de objetos geométricos planos. Está basada en la biblioteca [GEOS](https://libgeos.org/), programada en C/C++.\n",
    "\n",
    "Shapely no se ocupa de formatos de datos o sistemas de coordenadas, pero puede integrarse con bibliotecas que lo hacen (ej. [Fiona](https://github.com/Toblerity/Fiona), [pyproj](https://github.com/pyproj4/pyproj))."
   ]
  },
  {
   "cell_type": "markdown",
   "id": "9c00581e",
   "metadata": {},
   "source": [
    "Tanto Fiona como Shapely son utilizadas por la biblioteca [geopandas](https://geopandas.org/), para el análisis avanzado de datos geoespaciales."
   ]
  },
  {
   "cell_type": "markdown",
   "id": "121002ee",
   "metadata": {},
   "source": [
    "## Ejemplos de uso"
   ]
  },
  {
   "cell_type": "markdown",
   "id": "16ed72fc",
   "metadata": {},
   "source": [
    "### Análisis de distribución de especies de murciélagos en Costa Rica"
   ]
  },
  {
   "cell_type": "markdown",
   "id": "b00e6965",
   "metadata": {},
   "source": [
    "Se analiza la distribución de especies de [murciélagos](https://es.wikipedia.org/wiki/Chiroptera) en Costa Rica con base en varias divisiones del territorio. Se utilizan las siguientes fuentes de datos:\n",
    "\n",
    "- Registros de presencia de murciélagos, agrupados por la [Infraestructura Mundial de Información en Biodiversidad (GBIF)](https://api.gbif.org/v1/occurrence/download/request/0105729-210914110416597.zip).\n",
    "- Capas geoespaciales de Costa Rica agrupadas por el [Sistema Nacional de Información Territorial (SNIT)](https://www.snitcr.go.cr/).\n",
    "\n",
    "Los pasos del procedimiento a seguir son:\n",
    "\n",
    "1. Obtención de datos.\n",
    "2. Creación de un archivo GeoPackage con todas las capas.\n",
    "3. Conteo de especies en cada polígono de las capas."
   ]
  },
  {
   "cell_type": "markdown",
   "id": "9c5f7386",
   "metadata": {},
   "source": [
    "#### Bibliotecas"
   ]
  },
  {
   "cell_type": "code",
   "execution_count": 1,
   "id": "0a3b885d",
   "metadata": {},
   "outputs": [],
   "source": [
    "import os\n",
    "import requests\n",
    "import zipfile\n",
    "\n",
    "import csv\n",
    "\n",
    "import fiona\n",
    "import fiona.crs\n",
    "from shapely.geometry import Point, mapping, shape\n",
    "\n",
    "from owslib.wfs import WebFeatureService\n",
    "from geojson import dump"
   ]
  },
  {
   "cell_type": "markdown",
   "id": "97e3939c",
   "metadata": {},
   "source": [
    "#### 1. Obtención de datos"
   ]
  },
  {
   "cell_type": "markdown",
   "id": "c87c3e46",
   "metadata": {},
   "source": [
    "##### Registros de presencia de murciélagos"
   ]
  },
  {
   "cell_type": "markdown",
   "id": "f4da15cf",
   "metadata": {},
   "source": [
    "Se descargan en un archivo CSV desde una consulta al portal de GBIF."
   ]
  },
  {
   "cell_type": "code",
   "execution_count": 2,
   "id": "4e6ebe59",
   "metadata": {},
   "outputs": [
    {
     "data": {
      "text/plain": [
       "793319"
      ]
     },
     "execution_count": 2,
     "metadata": {},
     "output_type": "execute_result"
    }
   ],
   "source": [
    "# Descarga de archivo CSV comprimido en ZIP mediante solicitud tipo GET\n",
    "\n",
    "response = requests.get('https://api.gbif.org/v1/occurrence/download/request/0105729-210914110416597.zip', \n",
    "                        allow_redirects=True)\n",
    "open('datos/murcielagos.zip', 'wb').write(response.content)"
   ]
  },
  {
   "cell_type": "code",
   "execution_count": 3,
   "id": "0f79d89e",
   "metadata": {},
   "outputs": [],
   "source": [
    "# Descompresión\n",
    "\n",
    "with zipfile.ZipFile(\"datos/murcielagos.zip\") as zipfile:\n",
    "    zipfile.extractall(\"datos/\")"
   ]
  },
  {
   "cell_type": "code",
   "execution_count": 4,
   "id": "b066085c",
   "metadata": {},
   "outputs": [],
   "source": [
    "# Cambio de nombre del archivo CSV\n",
    "\n",
    "os.rename(\"datos/0105729-210914110416597.csv\", \"datos/murcielagos.csv\")"
   ]
  },
  {
   "cell_type": "markdown",
   "id": "1f3aa265",
   "metadata": {},
   "source": [
    "##### Capas geoespaciales de Costa Rica"
   ]
  },
  {
   "cell_type": "markdown",
   "id": "0060f445",
   "metadata": {},
   "source": [
    "Se descargan como archivos GeoJON desde servicios WFS."
   ]
  },
  {
   "cell_type": "markdown",
   "id": "2567c475",
   "metadata": {},
   "source": [
    "###### Áreas silvestres protegidas (ASP)"
   ]
  },
  {
   "cell_type": "markdown",
   "id": "e52c4d47",
   "metadata": {},
   "source": [
    "Lista de capas del servidor WFS del Sinac:"
   ]
  },
  {
   "cell_type": "code",
   "execution_count": 5,
   "id": "54bf502f",
   "metadata": {},
   "outputs": [
    {
     "data": {
      "text/plain": [
       "['PNE:bosque_decidio',\n",
       " 'PNE:bosque_maduro',\n",
       " 'PNE:bosque_secundario',\n",
       " 'PNE:bosque_palmas',\n",
       " 'PNE:corredoresbiologicos',\n",
       " 'PNE:registro_nacional_humedales',\n",
       " 'PNE:areas_silvestres_protegidas',\n",
       " 'PNE:areas_conservacion']"
      ]
     },
     "execution_count": 5,
     "metadata": {},
     "output_type": "execute_result"
    }
   ],
   "source": [
    "# Clase WebFeatureService de owslib.wfs\n",
    "\n",
    "wfs = WebFeatureService(url='http://geos1pne.sirefor.go.cr/wfs', version='1.1.0')\n",
    "list(wfs.contents)"
   ]
  },
  {
   "cell_type": "markdown",
   "id": "1d62bbcd",
   "metadata": {},
   "source": [
    "Otras propiedades del objeto WebFeatureService:"
   ]
  },
  {
   "cell_type": "code",
   "execution_count": 6,
   "id": "a690677b",
   "metadata": {},
   "outputs": [
    {
     "data": {
      "text/plain": [
       "'PNE Web Map Service'"
      ]
     },
     "execution_count": 6,
     "metadata": {},
     "output_type": "execute_result"
    }
   ],
   "source": [
    "# Título\n",
    "wfs.identification.title"
   ]
  },
  {
   "cell_type": "code",
   "execution_count": 7,
   "id": "0d63bccc",
   "metadata": {},
   "outputs": [
    {
     "data": {
      "text/plain": [
       "['GetCapabilities',\n",
       " 'DescribeFeatureType',\n",
       " 'GetFeature',\n",
       " 'GetGmlObject',\n",
       " 'LockFeature',\n",
       " 'GetFeatureWithLock',\n",
       " 'Transaction']"
      ]
     },
     "execution_count": 7,
     "metadata": {},
     "output_type": "execute_result"
    }
   ],
   "source": [
    "# Operaciones\n",
    "[operation.name for operation in wfs.operations]"
   ]
  },
  {
   "cell_type": "markdown",
   "id": "f726fbfd",
   "metadata": {},
   "source": [
    "Las operaciones y sus parámetros están documentados en [http://opengeospatial.github.io/e-learning/wfs/text/operations.html](http://opengeospatial.github.io/e-learning/wfs/text/operations.html)."
   ]
  },
  {
   "cell_type": "markdown",
   "id": "964c0995",
   "metadata": {},
   "source": [
    "Operación [GetCapabilities](http://opengeospatial.github.io/e-learning/wfs/text/operations.html#getcapabilities):"
   ]
  },
  {
   "cell_type": "code",
   "execution_count": 8,
   "id": "aed8b5e5",
   "metadata": {},
   "outputs": [
    {
     "data": {
      "text/plain": [
       "b'<?xml version=\"1.0\" encoding=\"UTF-8\"?>\\r\\n<wfs:WFS_Capabilities version=\"1.1.0\" xmlns:xsi=\"http://www.w3.org/2001/XMLSchema-instance\" xmlns=\"http://www.opengis.net/wfs\" xmlns:wfs=\"http://www.opengis.net/wfs\" xmlns:ows=\"http://www.opengis.net/ows\" xmlns:gml=\"http://www.opengis.net/gml\" xmlns:ogc=\"http://www.opengis.net/ogc\" xmlns:xlink=\"http://www.w3.org/1999/xlink\" xsi:schemaLocation=\"http://www.opengis.net/wfs http://addaxgeos1:10080/geoserver/PNE/wfs?service=wfs/schemas/wfs/1.1.0/wfs.xsd\" xmlns:Aguas=\"Aguas\" updateSequence=\"6170\">\\r\\n    <ows:ServiceIdentification>\\r\\n        <ows:Title>PNE Web Map Service</ows:Title>\\r\\n        <ows:Abstract>Servicio de mapas de Patrimonio Natural del Estado.</ows:Abstract>\\r\\n        <ows:Keywords>\\r\\n            <ows:Keyword>WFS</ows:Keyword>\\r\\n            <ows:Keyword>WMS</ows:Keyword>\\r\\n            <ows:Keyword>PNE</ows:Keyword>\\r\\n            <ows:Keyword>Patrimonio</ows:Keyword>\\r\\n            <ows:Keyword>Natural</ows:Keyword>\\r\\n            <ows:Keyword>Estado</ows:Keyword>\\r\\n        </ows:Keywords>\\r\\n        <ows:ServiceType>WFS</ows:ServiceType>\\r\\n        <ows:ServiceTypeVersion>1.1.0</ows:ServiceTypeVersion>\\r\\n        <ows:Fees>NONE</ows:Fees>\\r\\n        <ows:AccessConstraints>NONE</ows:AccessConstraints>\\r\\n    </ows:ServiceIdentification>\\r\\n    <ows:ServiceProvider>\\r\\n        <ows:ProviderName>The ancient geographes INC</ows:ProviderName>\\r\\n        <ows:ServiceContact>\\r\\n            <ows:IndividualName>Claudius Ptolomaeus</ows:IndividualName>\\r\\n            <ows:PositionName>Chief geographer</ows:PositionName>\\r\\n            <ows:ContactInfo>\\r\\n                <ows:Phone>\\r\\n                    <ows:Voice />\\r\\n                    <ows:Facsimile />\\r\\n                </ows:Phone>\\r\\n                <ows:Address>\\r\\n                    <ows:DeliveryPoint />\\r\\n                    <ows:City>Alexandria</ows:City>\\r\\n                    <ows:AdministrativeArea />\\r\\n                    <ows:PostalCode />\\r\\n                    <ows:Country>Egypt</ows:Country>\\r\\n                    <ows:ElectronicMailAddress />\\r\\n                </ows:Address>\\r\\n            </ows:ContactInfo>\\r\\n        </ows:ServiceContact>\\r\\n    </ows:ServiceProvider>\\r\\n    <ows:OperationsMetadata>\\r\\n        <ows:Operation name=\"GetCapabilities\">\\r\\n            <ows:DCP>\\r\\n                <ows:HTTP>\\r\\n                    <ows:Get xlink:href=\"http://geos1pne.sirefor.go.cr/GeoserviciosPNE/wfs?service=wfs&amp;\" />\\r\\n                    <ows:Post xlink:href=\"http://geos1pne.sirefor.go.cr/GeoserviciosPNE/wfs?service=wfs&amp;\" />\\r\\n                </ows:HTTP>\\r\\n            </ows:DCP>\\r\\n            <ows:Parameter name=\"AcceptVersions\">\\r\\n                <ows:Value>1.0.0</ows:Value>\\r\\n                <ows:Value>1.1.0</ows:Value>\\r\\n            </ows:Parameter>\\r\\n            <ows:Parameter name=\"AcceptFormats\">\\r\\n                <ows:Value>text/xml</ows:Value>\\r\\n            </ows:Parameter>\\r\\n        </ows:Operation>\\r\\n        <ows:Operation name=\"DescribeFeatureType\">\\r\\n            <ows:DCP>\\r\\n                <ows:HTTP>\\r\\n                    <ows:Get xlink:href=\"http://geos1pne.sirefor.go.cr/GeoserviciosPNE/wfs?service=wfs&amp;\" />\\r\\n                    <ows:Post xlink:href=\"http://geos1pne.sirefor.go.cr/GeoserviciosPNE/wfs?service=wfs&amp;\" />\\r\\n                </ows:HTTP>\\r\\n            </ows:DCP>\\r\\n            <ows:Parameter name=\"outputFormat\">\\r\\n                <ows:Value>text/xml; subtype=gml/3.1.1</ows:Value>\\r\\n            </ows:Parameter>\\r\\n        </ows:Operation>\\r\\n        <ows:Operation name=\"GetFeature\">\\r\\n            <ows:DCP>\\r\\n                <ows:HTTP>\\r\\n                    <ows:Get xlink:href=\"http://geos1pne.sirefor.go.cr/GeoserviciosPNE/wfs?service=wfs&amp;\" />\\r\\n                    <ows:Post xlink:href=\"http://geos1pne.sirefor.go.cr/GeoserviciosPNE/wfs?service=wfs&amp;\" />\\r\\n                </ows:HTTP>\\r\\n            </ows:DCP>\\r\\n            <ows:Parameter name=\"resultType\">\\r\\n                <ows:Value>results</ows:Value>\\r\\n                <ows:Value>hits</ows:Value>\\r\\n            </ows:Parameter>\\r\\n            <ows:Parameter name=\"outputFormat\">\\r\\n                <ows:Value>text/xml; subtype=gml/3.1.1</ows:Value>\\r\\n                <ows:Value>GML2</ows:Value>\\r\\n                <ows:Value>KML</ows:Value>\\r\\n                <ows:Value>SHAPE-ZIP</ows:Value>\\r\\n                <ows:Value>application/gml+xml; version=3.2</ows:Value>\\r\\n                <ows:Value>application/json</ows:Value>\\r\\n                <ows:Value>application/vnd.google-earth.kml xml</ows:Value>\\r\\n                <ows:Value>application/vnd.google-earth.kml+xml</ows:Value>\\r\\n                <ows:Value>csv</ows:Value>\\r\\n                <ows:Value>gml3</ows:Value>\\r\\n                <ows:Value>gml32</ows:Value>\\r\\n                <ows:Value>json</ows:Value>\\r\\n                <ows:Value>text/xml; subtype=gml/2.1.2</ows:Value>\\r\\n                <ows:Value>text/xml; subtype=gml/3.2</ows:Value>\\r\\n            </ows:Parameter>\\r\\n            <ows:Constraint name=\"LocalTraverseXLinkScope\">\\r\\n                <ows:Value>2</ows:Value>\\r\\n            </ows:Constraint>\\r\\n        </ows:Operation>\\r\\n        <ows:Operation name=\"GetGmlObject\">\\r\\n            <ows:DCP>\\r\\n                <ows:HTTP>\\r\\n                    <ows:Get xlink:href=\"http://geos1pne.sirefor.go.cr/GeoserviciosPNE/wfs?service=wfs&amp;\" />\\r\\n                    <ows:Post xlink:href=\"http://geos1pne.sirefor.go.cr/GeoserviciosPNE/wfs?service=wfs&amp;\" />\\r\\n                </ows:HTTP>\\r\\n            </ows:DCP>\\r\\n        </ows:Operation>\\r\\n        <ows:Operation name=\"LockFeature\">\\r\\n            <ows:DCP>\\r\\n                <ows:HTTP>\\r\\n                    <ows:Get xlink:href=\"http://geos1pne.sirefor.go.cr/GeoserviciosPNE/wfs?service=wfs&amp;\" />\\r\\n                    <ows:Post xlink:href=\"http://geos1pne.sirefor.go.cr/GeoserviciosPNE/wfs?service=wfs&amp;\" />\\r\\n                </ows:HTTP>\\r\\n            </ows:DCP>\\r\\n            <ows:Parameter name=\"releaseAction\">\\r\\n                <ows:Value>ALL</ows:Value>\\r\\n                <ows:Value>SOME</ows:Value>\\r\\n            </ows:Parameter>\\r\\n        </ows:Operation>\\r\\n        <ows:Operation name=\"GetFeatureWithLock\">\\r\\n            <ows:DCP>\\r\\n                <ows:HTTP>\\r\\n                    <ows:Get xlink:href=\"http://geos1pne.sirefor.go.cr/GeoserviciosPNE/wfs?service=wfs&amp;\" />\\r\\n                    <ows:Post xlink:href=\"http://geos1pne.sirefor.go.cr/GeoserviciosPNE/wfs?service=wfs&amp;\" />\\r\\n                </ows:HTTP>\\r\\n            </ows:DCP>\\r\\n            <ows:Parameter name=\"resultType\">\\r\\n                <ows:Value>results</ows:Value>\\r\\n                <ows:Value>hits</ows:Value>\\r\\n            </ows:Parameter>\\r\\n            <ows:Parameter name=\"outputFormat\">\\r\\n                <ows:Value>text/xml; subtype=gml/3.1.1</ows:Value>\\r\\n                <ows:Value>GML2</ows:Value>\\r\\n                <ows:Value>KML</ows:Value>\\r\\n                <ows:Value>SHAPE-ZIP</ows:Value>\\r\\n                <ows:Value>application/gml+xml; version=3.2</ows:Value>\\r\\n                <ows:Value>application/json</ows:Value>\\r\\n                <ows:Value>application/vnd.google-earth.kml xml</ows:Value>\\r\\n                <ows:Value>application/vnd.google-earth.kml+xml</ows:Value>\\r\\n                <ows:Value>csv</ows:Value>\\r\\n                <ows:Value>gml3</ows:Value>\\r\\n                <ows:Value>gml32</ows:Value>\\r\\n                <ows:Value>json</ows:Value>\\r\\n                <ows:Value>text/xml; subtype=gml/2.1.2</ows:Value>\\r\\n                <ows:Value>text/xml; subtype=gml/3.2</ows:Value>\\r\\n            </ows:Parameter>\\r\\n        </ows:Operation>\\r\\n        <ows:Operation name=\"Transaction\">\\r\\n            <ows:DCP>\\r\\n                <ows:HTTP>\\r\\n                    <ows:Get xlink:href=\"http://geos1pne.sirefor.go.cr/GeoserviciosPNE/wfs?service=wfs&amp;\" />\\r\\n                    <ows:Post xlink:href=\"http://geos1pne.sirefor.go.cr/GeoserviciosPNE/wfs?service=wfs&amp;\" />\\r\\n                </ows:HTTP>\\r\\n            </ows:DCP>\\r\\n            <ows:Parameter name=\"inputFormat\">\\r\\n                <ows:Value>text/xml; subtype=gml/3.1.1</ows:Value>\\r\\n            </ows:Parameter>\\r\\n            <ows:Parameter name=\"idgen\">\\r\\n                <ows:Value>GenerateNew</ows:Value>\\r\\n                <ows:Value>UseExisting</ows:Value>\\r\\n                <ows:Value>ReplaceDuplicate</ows:Value>\\r\\n            </ows:Parameter>\\r\\n            <ows:Parameter name=\"releaseAction\">\\r\\n                <ows:Value>ALL</ows:Value>\\r\\n                <ows:Value>SOME</ows:Value>\\r\\n            </ows:Parameter>\\r\\n        </ows:Operation>\\r\\n    </ows:OperationsMetadata>\\r\\n    <FeatureTypeList>\\r\\n        <Operations>\\r\\n            <Operation>Query</Operation>\\r\\n            <Operation>Insert</Operation>\\r\\n            <Operation>Update</Operation>\\r\\n            <Operation>Delete</Operation>\\r\\n            <Operation>Lock</Operation>\\r\\n        </Operations><FeatureType xmlns:PNE=\"PNE\"><Name>PNE:bosque_decidio</Name><Title>Bosque Deciduo</Title><Abstract/><ows:Keywords><ows:Keyword>features</ows:Keyword><ows:Keyword>shp_bosque_decidio</ows:Keyword></ows:Keywords><DefaultSRS>urn:x-ogc:def:crs:EPSG:5367</DefaultSRS><ows:WGS84BoundingBox><ows:LowerCorner>-86.55148683928066 2.2077648187972607</ows:LowerCorner><ows:UpperCorner>-81.3770756753309 11.781591560078915</ows:UpperCorner></ows:WGS84BoundingBox></FeatureType><FeatureType xmlns:PNE=\"PNE\"><Name>PNE:bosque_maduro</Name><Title>Bosque Maduro</Title><Abstract/><ows:Keywords><ows:Keyword>features</ows:Keyword><ows:Keyword>shp_bosque_maduro</ows:Keyword></ows:Keywords><DefaultSRS>urn:x-ogc:def:crs:EPSG:5367</DefaultSRS><ows:WGS84BoundingBox><ows:LowerCorner>-86.55148683928066 2.2077648187972607</ows:LowerCorner><ows:UpperCorner>-81.3770756753309 11.781591560078915</ows:UpperCorner></ows:WGS84BoundingBox></FeatureType><FeatureType xmlns:PNE=\"PNE\"><Name>PNE:bosque_secundario</Name><Title>Bosque Secundario</Title><Abstract/><ows:Keywords><ows:Keyword>features</ows:Keyword><ows:Keyword>shp_bosque_secundario</ows:Keyword></ows:Keywords><DefaultSRS>urn:x-ogc:def:crs:EPSG:5367</DefaultSRS><ows:WGS84BoundingBox><ows:LowerCorner>-86.55148683928066 2.2077648187972607</ows:LowerCorner><ows:UpperCorner>-81.3770756753309 11.781591560078915</ows:UpperCorner></ows:WGS84BoundingBox></FeatureType><FeatureType xmlns:PNE=\"PNE\"><Name>PNE:bosque_palmas</Name><Title>Bosque de Palmas</Title><Abstract/><ows:Keywords><ows:Keyword>features</ows:Keyword><ows:Keyword>shp_bosque_palmas</ows:Keyword></ows:Keywords><DefaultSRS>urn:x-ogc:def:crs:EPSG:5367</DefaultSRS><ows:WGS84BoundingBox><ows:LowerCorner>-86.55148683928066 2.2077648187972607</ows:LowerCorner><ows:UpperCorner>-81.3770756753309 11.781591560078915</ows:UpperCorner></ows:WGS84BoundingBox></FeatureType><FeatureType xmlns:PNE=\"PNE\"><Name>PNE:corredoresbiologicos</Name><Title>Corredores Biol\\xc3\\xb3gicos</Title><Abstract/><ows:Keywords><ows:Keyword>features</ows:Keyword><ows:Keyword>shp_corredoresbiologicos</ows:Keyword></ows:Keywords><DefaultSRS>urn:x-ogc:def:crs:EPSG:5367</DefaultSRS><ows:WGS84BoundingBox><ows:LowerCorner>-86.55148683928067 2.2077648187972607</ows:LowerCorner><ows:UpperCorner>-81.3770756753309 11.781591560078915</ows:UpperCorner></ows:WGS84BoundingBox></FeatureType><FeatureType xmlns:PNE=\"PNE\"><Name>PNE:registro_nacional_humedales</Name><Title>Registro Nacional de Humedales</Title><Abstract/><ows:Keywords><ows:Keyword>features</ows:Keyword><ows:Keyword>shp_registro_nacional_humedales</ows:Keyword></ows:Keywords><DefaultSRS>urn:x-ogc:def:crs:EPSG:5367</DefaultSRS><ows:WGS84BoundingBox><ows:LowerCorner>-86.55148683927726 2.2077648187245025</ows:LowerCorner><ows:UpperCorner>-81.37707567533441 11.78159155969892</ows:UpperCorner></ows:WGS84BoundingBox></FeatureType><FeatureType xmlns:PNE=\"PNE\"><Name>PNE:areas_silvestres_protegidas</Name><Title>\\xc3\\x81reas Silvestres Protegidas</Title><Abstract/><ows:Keywords><ows:Keyword>features</ows:Keyword><ows:Keyword>shp_areassilvestresprotegidas</ows:Keyword></ows:Keywords><DefaultSRS>urn:x-ogc:def:crs:EPSG:5367</DefaultSRS><ows:WGS84BoundingBox><ows:LowerCorner>-86.55148683928066 2.2077648187972607</ows:LowerCorner><ows:UpperCorner>-81.3770756753309 11.781591560078915</ows:UpperCorner></ows:WGS84BoundingBox></FeatureType><FeatureType xmlns:PNE=\"PNE\"><Name>PNE:areas_conservacion</Name><Title>\\xc3\\x81reas de Conservaci\\xc3\\xb3n</Title><Abstract/><ows:Keywords><ows:Keyword>shp_areasdeconservacion</ows:Keyword><ows:Keyword>features</ows:Keyword></ows:Keywords><DefaultSRS>urn:x-ogc:def:crs:EPSG:5367</DefaultSRS><ows:WGS84BoundingBox><ows:LowerCorner>-86.55148683928066 2.2077648187972607</ows:LowerCorner><ows:UpperCorner>-81.3770756753309 11.781591560078915</ows:UpperCorner></ows:WGS84BoundingBox></FeatureType>    </FeatureTypeList>\\r\\n    <ogc:Filter_Capabilities>\\r\\n        <ogc:Spatial_Capabilities>\\r\\n            <ogc:GeometryOperands>\\r\\n                <ogc:GeometryOperand>gml:Envelope</ogc:GeometryOperand>\\r\\n                <ogc:GeometryOperand>gml:Point</ogc:GeometryOperand>\\r\\n                <ogc:GeometryOperand>gml:LineString</ogc:GeometryOperand>\\r\\n                <ogc:GeometryOperand>gml:Polygon</ogc:GeometryOperand>\\r\\n            </ogc:GeometryOperands>\\r\\n            <ogc:SpatialOperators>\\r\\n                <ogc:SpatialOperator name=\"Disjoint\" />\\r\\n                <ogc:SpatialOperator name=\"Equals\" />\\r\\n                <ogc:SpatialOperator name=\"DWithin\" />\\r\\n                <ogc:SpatialOperator name=\"Beyond\" />\\r\\n                <ogc:SpatialOperator name=\"Intersects\" />\\r\\n                <ogc:SpatialOperator name=\"Touches\" />\\r\\n                <ogc:SpatialOperator name=\"Crosses\" />\\r\\n                <ogc:SpatialOperator name=\"Within\" />\\r\\n                <ogc:SpatialOperator name=\"Contains\" />\\r\\n                <ogc:SpatialOperator name=\"Overlaps\" />\\r\\n                <ogc:SpatialOperator name=\"BBOX\" />\\r\\n            </ogc:SpatialOperators>\\r\\n        </ogc:Spatial_Capabilities>\\r\\n        <ogc:Scalar_Capabilities>\\r\\n            <ogc:LogicalOperators />\\r\\n            <ogc:ComparisonOperators>\\r\\n                <ogc:ComparisonOperator>LessThan</ogc:ComparisonOperator>\\r\\n                <ogc:ComparisonOperator>GreaterThan</ogc:ComparisonOperator>\\r\\n                <ogc:ComparisonOperator>LessThanEqualTo</ogc:ComparisonOperator>\\r\\n                <ogc:ComparisonOperator>GreaterThanEqualTo</ogc:ComparisonOperator>\\r\\n                <ogc:ComparisonOperator>EqualTo</ogc:ComparisonOperator>\\r\\n                <ogc:ComparisonOperator>NotEqualTo</ogc:ComparisonOperator>\\r\\n                <ogc:ComparisonOperator>Like</ogc:ComparisonOperator>\\r\\n                <ogc:ComparisonOperator>Between</ogc:ComparisonOperator>\\r\\n                <ogc:ComparisonOperator>NullCheck</ogc:ComparisonOperator>\\r\\n            </ogc:ComparisonOperators>\\r\\n            <ogc:ArithmeticOperators>\\r\\n                <ogc:SimpleArithmetic />\\r\\n                <ogc:Functions>\\r\\n                    <ogc:FunctionNames>\\r\\n                        <ogc:FunctionName nArgs=\"1\">abs</ogc:FunctionName>\\r\\n                        <ogc:FunctionName nArgs=\"1\">abs_2</ogc:FunctionName>\\r\\n                        <ogc:FunctionName nArgs=\"1\">abs_3</ogc:FunctionName>\\r\\n                        <ogc:FunctionName nArgs=\"1\">abs_4</ogc:FunctionName>\\r\\n                        <ogc:FunctionName nArgs=\"1\">acos</ogc:FunctionName>\\r\\n                        <ogc:FunctionName nArgs=\"2\">AddCoverages</ogc:FunctionName>\\r\\n                        <ogc:FunctionName nArgs=\"-1\">Affine</ogc:FunctionName>\\r\\n                        <ogc:FunctionName nArgs=\"-2\">Aggregate</ogc:FunctionName>\\r\\n                        <ogc:FunctionName nArgs=\"1\">area</ogc:FunctionName>\\r\\n                        <ogc:FunctionName nArgs=\"1\">area2</ogc:FunctionName>\\r\\n                        <ogc:FunctionName nArgs=\"3\">AreaGrid</ogc:FunctionName>\\r\\n                        <ogc:FunctionName nArgs=\"1\">asin</ogc:FunctionName>\\r\\n                        <ogc:FunctionName nArgs=\"1\">atan</ogc:FunctionName>\\r\\n                        <ogc:FunctionName nArgs=\"2\">atan2</ogc:FunctionName>\\r\\n                        <ogc:FunctionName nArgs=\"-1\">BandMerge</ogc:FunctionName>\\r\\n                        <ogc:FunctionName nArgs=\"-2\">BandSelect</ogc:FunctionName>\\r\\n                        <ogc:FunctionName nArgs=\"-6\">BarnesSurface</ogc:FunctionName>\\r\\n                        <ogc:FunctionName nArgs=\"3\">between</ogc:FunctionName>\\r\\n                        <ogc:FunctionName nArgs=\"1\">boundary</ogc:FunctionName>\\r\\n                        <ogc:FunctionName nArgs=\"1\">boundaryDimension</ogc:FunctionName>\\r\\n                        <ogc:FunctionName nArgs=\"1\">Bounds</ogc:FunctionName>\\r\\n                        <ogc:FunctionName nArgs=\"-2\">buffer</ogc:FunctionName>\\r\\n                        <ogc:FunctionName nArgs=\"-2\">BufferFeatureCollection</ogc:FunctionName>\\r\\n                        <ogc:FunctionName nArgs=\"3\">bufferWithSegments</ogc:FunctionName>\\r\\n                        <ogc:FunctionName nArgs=\"7\">Categorize</ogc:FunctionName>\\r\\n                        <ogc:FunctionName nArgs=\"1\">ceil</ogc:FunctionName>\\r\\n                        <ogc:FunctionName nArgs=\"1\">centroid</ogc:FunctionName>\\r\\n                        <ogc:FunctionName nArgs=\"2\">classify</ogc:FunctionName>\\r\\n                        <ogc:FunctionName nArgs=\"-2\">Clip</ogc:FunctionName>\\r\\n                        <ogc:FunctionName nArgs=\"1\">CollectGeometries</ogc:FunctionName>\\r\\n                        <ogc:FunctionName nArgs=\"1\">Collection_Average</ogc:FunctionName>\\r\\n                        <ogc:FunctionName nArgs=\"1\">Collection_Bounds</ogc:FunctionName>\\r\\n                        <ogc:FunctionName nArgs=\"0\">Collection_Count</ogc:FunctionName>\\r\\n                        <ogc:FunctionName nArgs=\"1\">Collection_Max</ogc:FunctionName>\\r\\n                        <ogc:FunctionName nArgs=\"1\">Collection_Median</ogc:FunctionName>\\r\\n                        <ogc:FunctionName nArgs=\"1\">Collection_Min</ogc:FunctionName>\\r\\n                        <ogc:FunctionName nArgs=\"1\">Collection_Nearest</ogc:FunctionName>\\r\\n                        <ogc:FunctionName nArgs=\"1\">Collection_Sum</ogc:FunctionName>\\r\\n                        <ogc:FunctionName nArgs=\"1\">Collection_Unique</ogc:FunctionName>\\r\\n                        <ogc:FunctionName nArgs=\"-2\">Concatenate</ogc:FunctionName>\\r\\n                        <ogc:FunctionName nArgs=\"2\">contains</ogc:FunctionName>\\r\\n                        <ogc:FunctionName nArgs=\"-1\">Contour</ogc:FunctionName>\\r\\n                        <ogc:FunctionName nArgs=\"2\">convert</ogc:FunctionName>\\r\\n                        <ogc:FunctionName nArgs=\"1\">convexHull</ogc:FunctionName>\\r\\n                        <ogc:FunctionName nArgs=\"1\">cos</ogc:FunctionName>\\r\\n                        <ogc:FunctionName nArgs=\"1\">Count</ogc:FunctionName>\\r\\n                        <ogc:FunctionName nArgs=\"2\">CropCoverage</ogc:FunctionName>\\r\\n                        <ogc:FunctionName nArgs=\"2\">crosses</ogc:FunctionName>\\r\\n                        <ogc:FunctionName nArgs=\"2\">dateFormat</ogc:FunctionName>\\r\\n                        <ogc:FunctionName nArgs=\"2\">dateParse</ogc:FunctionName>\\r\\n                        <ogc:FunctionName nArgs=\"2\">densify</ogc:FunctionName>\\r\\n                        <ogc:FunctionName nArgs=\"2\">difference</ogc:FunctionName>\\r\\n                        <ogc:FunctionName nArgs=\"1\">dimension</ogc:FunctionName>\\r\\n                        <ogc:FunctionName nArgs=\"2\">disjoint</ogc:FunctionName>\\r\\n                        <ogc:FunctionName nArgs=\"2\">disjoint3D</ogc:FunctionName>\\r\\n                        <ogc:FunctionName nArgs=\"2\">distance</ogc:FunctionName>\\r\\n                        <ogc:FunctionName nArgs=\"2\">distance3D</ogc:FunctionName>\\r\\n                        <ogc:FunctionName nArgs=\"1\">double2bool</ogc:FunctionName>\\r\\n                        <ogc:FunctionName nArgs=\"1\">endAngle</ogc:FunctionName>\\r\\n                        <ogc:FunctionName nArgs=\"1\">endPoint</ogc:FunctionName>\\r\\n                        <ogc:FunctionName nArgs=\"1\">env</ogc:FunctionName>\\r\\n                        <ogc:FunctionName nArgs=\"1\">envelope</ogc:FunctionName>\\r\\n                        <ogc:FunctionName nArgs=\"2\">EqualInterval</ogc:FunctionName>\\r\\n                        <ogc:FunctionName nArgs=\"2\">equalsExact</ogc:FunctionName>\\r\\n                        <ogc:FunctionName nArgs=\"3\">equalsExactTolerance</ogc:FunctionName>\\r\\n                        <ogc:FunctionName nArgs=\"2\">equalTo</ogc:FunctionName>\\r\\n                        <ogc:FunctionName nArgs=\"1\">exp</ogc:FunctionName>\\r\\n                        <ogc:FunctionName nArgs=\"1\">exteriorRing</ogc:FunctionName>\\r\\n                        <ogc:FunctionName nArgs=\"3\">Feature</ogc:FunctionName>\\r\\n                        <ogc:FunctionName nArgs=\"1\">floor</ogc:FunctionName>\\r\\n                        <ogc:FunctionName nArgs=\"1\">geometryType</ogc:FunctionName>\\r\\n                        <ogc:FunctionName nArgs=\"1\">geomFromWKT</ogc:FunctionName>\\r\\n                        <ogc:FunctionName nArgs=\"1\">geomLength</ogc:FunctionName>\\r\\n                        <ogc:FunctionName nArgs=\"-3\">GeorectifyCoverage</ogc:FunctionName>\\r\\n                        <ogc:FunctionName nArgs=\"-1\">GetFullCoverage</ogc:FunctionName>\\r\\n                        <ogc:FunctionName nArgs=\"2\">getGeometryN</ogc:FunctionName>\\r\\n                        <ogc:FunctionName nArgs=\"1\">getX</ogc:FunctionName>\\r\\n                        <ogc:FunctionName nArgs=\"1\">getY</ogc:FunctionName>\\r\\n                        <ogc:FunctionName nArgs=\"1\">getz</ogc:FunctionName>\\r\\n                        <ogc:FunctionName nArgs=\"2\">greaterEqualThan</ogc:FunctionName>\\r\\n                        <ogc:FunctionName nArgs=\"2\">greaterThan</ogc:FunctionName>\\r\\n                        <ogc:FunctionName nArgs=\"-3\">Grid</ogc:FunctionName>\\r\\n                        <ogc:FunctionName nArgs=\"-5\">Heatmap</ogc:FunctionName>\\r\\n                        <ogc:FunctionName nArgs=\"0\">id</ogc:FunctionName>\\r\\n                        <ogc:FunctionName nArgs=\"2\">IEEEremainder</ogc:FunctionName>\\r\\n                        <ogc:FunctionName nArgs=\"3\">if_then_else</ogc:FunctionName>\\r\\n                        <ogc:FunctionName nArgs=\"0\">Import</ogc:FunctionName>\\r\\n                        <ogc:FunctionName nArgs=\"11\">in10</ogc:FunctionName>\\r\\n                        <ogc:FunctionName nArgs=\"3\">in2</ogc:FunctionName>\\r\\n                        <ogc:FunctionName nArgs=\"4\">in3</ogc:FunctionName>\\r\\n                        <ogc:FunctionName nArgs=\"5\">in4</ogc:FunctionName>\\r\\n                        <ogc:FunctionName nArgs=\"6\">in5</ogc:FunctionName>\\r\\n                        <ogc:FunctionName nArgs=\"7\">in6</ogc:FunctionName>\\r\\n                        <ogc:FunctionName nArgs=\"8\">in7</ogc:FunctionName>\\r\\n                        <ogc:FunctionName nArgs=\"9\">in8</ogc:FunctionName>\\r\\n                        <ogc:FunctionName nArgs=\"10\">in9</ogc:FunctionName>\\r\\n                        <ogc:FunctionName nArgs=\"2\">InclusionFeatureCollection</ogc:FunctionName>\\r\\n                        <ogc:FunctionName nArgs=\"1\">int2bbool</ogc:FunctionName>\\r\\n                        <ogc:FunctionName nArgs=\"1\">int2ddouble</ogc:FunctionName>\\r\\n                        <ogc:FunctionName nArgs=\"1\">interiorPoint</ogc:FunctionName>\\r\\n                        <ogc:FunctionName nArgs=\"2\">interiorRingN</ogc:FunctionName>\\r\\n                        <ogc:FunctionName nArgs=\"-5\">Interpolate</ogc:FunctionName>\\r\\n                        <ogc:FunctionName nArgs=\"2\">intersection</ogc:FunctionName>\\r\\n                        <ogc:FunctionName nArgs=\"-2\">IntersectionFeatureCollection</ogc:FunctionName>\\r\\n                        <ogc:FunctionName nArgs=\"2\">intersects</ogc:FunctionName>\\r\\n                        <ogc:FunctionName nArgs=\"2\">intersects3D</ogc:FunctionName>\\r\\n                        <ogc:FunctionName nArgs=\"1\">isClosed</ogc:FunctionName>\\r\\n                        <ogc:FunctionName nArgs=\"0\">isCoverage</ogc:FunctionName>\\r\\n                        <ogc:FunctionName nArgs=\"1\">isEmpty</ogc:FunctionName>\\r\\n                        <ogc:FunctionName nArgs=\"1\">isInstanceOf</ogc:FunctionName>\\r\\n                        <ogc:FunctionName nArgs=\"2\">isLike</ogc:FunctionName>\\r\\n                        <ogc:FunctionName nArgs=\"1\">isNull</ogc:FunctionName>\\r\\n                        <ogc:FunctionName nArgs=\"2\">isometric</ogc:FunctionName>\\r\\n                        <ogc:FunctionName nArgs=\"1\">isRing</ogc:FunctionName>\\r\\n                        <ogc:FunctionName nArgs=\"1\">isSimple</ogc:FunctionName>\\r\\n                        <ogc:FunctionName nArgs=\"1\">isValid</ogc:FunctionName>\\r\\n                        <ogc:FunctionName nArgs=\"3\">isWithinDistance</ogc:FunctionName>\\r\\n                        <ogc:FunctionName nArgs=\"3\">isWithinDistance3D</ogc:FunctionName>\\r\\n                        <ogc:FunctionName nArgs=\"2\">Jenks</ogc:FunctionName>\\r\\n                        <ogc:FunctionName nArgs=\"1\">length</ogc:FunctionName>\\r\\n                        <ogc:FunctionName nArgs=\"2\">lessEqualThan</ogc:FunctionName>\\r\\n                        <ogc:FunctionName nArgs=\"2\">lessThan</ogc:FunctionName>\\r\\n                        <ogc:FunctionName nArgs=\"-1\">list</ogc:FunctionName>\\r\\n                        <ogc:FunctionName nArgs=\"1\">log</ogc:FunctionName>\\r\\n                        <ogc:FunctionName nArgs=\"4\">LRSGeocode</ogc:FunctionName>\\r\\n                        <ogc:FunctionName nArgs=\"-4\">LRSMeasure</ogc:FunctionName>\\r\\n                        <ogc:FunctionName nArgs=\"5\">LRSSegment</ogc:FunctionName>\\r\\n                        <ogc:FunctionName nArgs=\"2\">max</ogc:FunctionName>\\r\\n                        <ogc:FunctionName nArgs=\"2\">max_2</ogc:FunctionName>\\r\\n                        <ogc:FunctionName nArgs=\"2\">max_3</ogc:FunctionName>\\r\\n                        <ogc:FunctionName nArgs=\"2\">max_4</ogc:FunctionName>\\r\\n                        <ogc:FunctionName nArgs=\"2\">min</ogc:FunctionName>\\r\\n                        <ogc:FunctionName nArgs=\"2\">min_2</ogc:FunctionName>\\r\\n                        <ogc:FunctionName nArgs=\"2\">min_3</ogc:FunctionName>\\r\\n                        <ogc:FunctionName nArgs=\"2\">min_4</ogc:FunctionName>\\r\\n                        <ogc:FunctionName nArgs=\"1\">mincircle</ogc:FunctionName>\\r\\n                        <ogc:FunctionName nArgs=\"1\">minimumdiameter</ogc:FunctionName>\\r\\n                        <ogc:FunctionName nArgs=\"1\">minrectangle</ogc:FunctionName>\\r\\n                        <ogc:FunctionName nArgs=\"2\">modulo</ogc:FunctionName>\\r\\n                        <ogc:FunctionName nArgs=\"2\">MultiplyCoverages</ogc:FunctionName>\\r\\n                        <ogc:FunctionName nArgs=\"-2\">Nearest</ogc:FunctionName>\\r\\n                        <ogc:FunctionName nArgs=\"1\">not</ogc:FunctionName>\\r\\n                        <ogc:FunctionName nArgs=\"2\">notEqualTo</ogc:FunctionName>\\r\\n                        <ogc:FunctionName nArgs=\"2\">numberFormat</ogc:FunctionName>\\r\\n                        <ogc:FunctionName nArgs=\"5\">numberFormat2</ogc:FunctionName>\\r\\n                        <ogc:FunctionName nArgs=\"1\">numGeometries</ogc:FunctionName>\\r\\n                        <ogc:FunctionName nArgs=\"1\">numInteriorRing</ogc:FunctionName>\\r\\n                        <ogc:FunctionName nArgs=\"1\">numPoints</ogc:FunctionName>\\r\\n                        <ogc:FunctionName nArgs=\"1\">octagonalenvelope</ogc:FunctionName>\\r\\n                        <ogc:FunctionName nArgs=\"3\">offset</ogc:FunctionName>\\r\\n                        <ogc:FunctionName nArgs=\"2\">overlaps</ogc:FunctionName>\\r\\n                        <ogc:FunctionName nArgs=\"-2\">PagedUnique</ogc:FunctionName>\\r\\n                        <ogc:FunctionName nArgs=\"-1\">parameter</ogc:FunctionName>\\r\\n                        <ogc:FunctionName nArgs=\"1\">parseBoolean</ogc:FunctionName>\\r\\n                        <ogc:FunctionName nArgs=\"1\">parseDouble</ogc:FunctionName>\\r\\n                        <ogc:FunctionName nArgs=\"1\">parseInt</ogc:FunctionName>\\r\\n                        <ogc:FunctionName nArgs=\"1\">parseLong</ogc:FunctionName>\\r\\n                        <ogc:FunctionName nArgs=\"0\">pi</ogc:FunctionName>\\r\\n                        <ogc:FunctionName nArgs=\"-1\">PointBuffers</ogc:FunctionName>\\r\\n                        <ogc:FunctionName nArgs=\"2\">pointN</ogc:FunctionName>\\r\\n                        <ogc:FunctionName nArgs=\"-6\">PointStacker</ogc:FunctionName>\\r\\n                        <ogc:FunctionName nArgs=\"-1\">PolygonExtraction</ogc:FunctionName>\\r\\n                        <ogc:FunctionName nArgs=\"1\">polygonize</ogc:FunctionName>\\r\\n                        <ogc:FunctionName nArgs=\"2\">pow</ogc:FunctionName>\\r\\n                        <ogc:FunctionName nArgs=\"1\">property</ogc:FunctionName>\\r\\n                        <ogc:FunctionName nArgs=\"1\">PropertyExists</ogc:FunctionName>\\r\\n                        <ogc:FunctionName nArgs=\"2\">Quantile</ogc:FunctionName>\\r\\n                        <ogc:FunctionName nArgs=\"-1\">Query</ogc:FunctionName>\\r\\n                        <ogc:FunctionName nArgs=\"0\">random</ogc:FunctionName>\\r\\n                        <ogc:FunctionName nArgs=\"-1\">RangeLookup</ogc:FunctionName>\\r\\n                        <ogc:FunctionName nArgs=\"-1\">RasterAsPointCollection</ogc:FunctionName>\\r\\n                        <ogc:FunctionName nArgs=\"-2\">RasterZonalStatistics</ogc:FunctionName>\\r\\n                        <ogc:FunctionName nArgs=\"5\">Recode</ogc:FunctionName>\\r\\n                        <ogc:FunctionName nArgs=\"-2\">RectangularClip</ogc:FunctionName>\\r\\n                        <ogc:FunctionName nArgs=\"2\">relate</ogc:FunctionName>\\r\\n                        <ogc:FunctionName nArgs=\"3\">relatePattern</ogc:FunctionName>\\r\\n                        <ogc:FunctionName nArgs=\"-1\">reproject</ogc:FunctionName>\\r\\n                        <ogc:FunctionName nArgs=\"-1\">ReprojectGeometry</ogc:FunctionName>\\r\\n                        <ogc:FunctionName nArgs=\"-3\">rescaleToPixels</ogc:FunctionName>\\r\\n                        <ogc:FunctionName nArgs=\"1\">rint</ogc:FunctionName>\\r\\n                        <ogc:FunctionName nArgs=\"1\">round</ogc:FunctionName>\\r\\n                        <ogc:FunctionName nArgs=\"1\">round_2</ogc:FunctionName>\\r\\n                        <ogc:FunctionName nArgs=\"1\">roundDouble</ogc:FunctionName>\\r\\n                        <ogc:FunctionName nArgs=\"-5\">ScaleCoverage</ogc:FunctionName>\\r\\n                        <ogc:FunctionName nArgs=\"2\">setCRS</ogc:FunctionName>\\r\\n                        <ogc:FunctionName nArgs=\"2\">simplify</ogc:FunctionName>\\r\\n                        <ogc:FunctionName nArgs=\"1\">sin</ogc:FunctionName>\\r\\n                        <ogc:FunctionName nArgs=\"-2\">Snap</ogc:FunctionName>\\r\\n                        <ogc:FunctionName nArgs=\"2\">splitPolygon</ogc:FunctionName>\\r\\n                        <ogc:FunctionName nArgs=\"1\">sqrt</ogc:FunctionName>\\r\\n                        <ogc:FunctionName nArgs=\"2\">StandardDeviation</ogc:FunctionName>\\r\\n                        <ogc:FunctionName nArgs=\"1\">startAngle</ogc:FunctionName>\\r\\n                        <ogc:FunctionName nArgs=\"1\">startPoint</ogc:FunctionName>\\r\\n                        <ogc:FunctionName nArgs=\"1\">StoreCoverage</ogc:FunctionName>\\r\\n                        <ogc:FunctionName nArgs=\"1\">strCapitalize</ogc:FunctionName>\\r\\n                        <ogc:FunctionName nArgs=\"2\">strConcat</ogc:FunctionName>\\r\\n                        <ogc:FunctionName nArgs=\"2\">strEndsWith</ogc:FunctionName>\\r\\n                        <ogc:FunctionName nArgs=\"2\">strEqualsIgnoreCase</ogc:FunctionName>\\r\\n                        <ogc:FunctionName nArgs=\"2\">strIndexOf</ogc:FunctionName>\\r\\n                        <ogc:FunctionName nArgs=\"4\">stringTemplate</ogc:FunctionName>\\r\\n                        <ogc:FunctionName nArgs=\"2\">strLastIndexOf</ogc:FunctionName>\\r\\n                        <ogc:FunctionName nArgs=\"1\">strLength</ogc:FunctionName>\\r\\n                        <ogc:FunctionName nArgs=\"2\">strMatches</ogc:FunctionName>\\r\\n                        <ogc:FunctionName nArgs=\"3\">strPosition</ogc:FunctionName>\\r\\n                        <ogc:FunctionName nArgs=\"4\">strReplace</ogc:FunctionName>\\r\\n                        <ogc:FunctionName nArgs=\"2\">strStartsWith</ogc:FunctionName>\\r\\n                        <ogc:FunctionName nArgs=\"3\">strSubstring</ogc:FunctionName>\\r\\n                        <ogc:FunctionName nArgs=\"2\">strSubstringStart</ogc:FunctionName>\\r\\n                        <ogc:FunctionName nArgs=\"1\">strToLowerCase</ogc:FunctionName>\\r\\n                        <ogc:FunctionName nArgs=\"1\">strToUpperCase</ogc:FunctionName>\\r\\n                        <ogc:FunctionName nArgs=\"1\">strTrim</ogc:FunctionName>\\r\\n                        <ogc:FunctionName nArgs=\"3\">strTrim2</ogc:FunctionName>\\r\\n                        <ogc:FunctionName nArgs=\"2\">StyleCoverage</ogc:FunctionName>\\r\\n                        <ogc:FunctionName nArgs=\"2\">symDifference</ogc:FunctionName>\\r\\n                        <ogc:FunctionName nArgs=\"1\">tan</ogc:FunctionName>\\r\\n                        <ogc:FunctionName nArgs=\"1\">toDegrees</ogc:FunctionName>\\r\\n                        <ogc:FunctionName nArgs=\"1\">toRadians</ogc:FunctionName>\\r\\n                        <ogc:FunctionName nArgs=\"2\">touches</ogc:FunctionName>\\r\\n                        <ogc:FunctionName nArgs=\"1\">toWKT</ogc:FunctionName>\\r\\n                        <ogc:FunctionName nArgs=\"2\">Transform</ogc:FunctionName>\\r\\n                        <ogc:FunctionName nArgs=\"-2\">union</ogc:FunctionName>\\r\\n                        <ogc:FunctionName nArgs=\"2\">UnionFeatureCollection</ogc:FunctionName>\\r\\n                        <ogc:FunctionName nArgs=\"2\">Unique</ogc:FunctionName>\\r\\n                        <ogc:FunctionName nArgs=\"2\">UniqueInterval</ogc:FunctionName>\\r\\n                        <ogc:FunctionName nArgs=\"-4\">VectorToRaster</ogc:FunctionName>\\r\\n                        <ogc:FunctionName nArgs=\"3\">VectorZonalStatistics</ogc:FunctionName>\\r\\n                        <ogc:FunctionName nArgs=\"1\">vertices</ogc:FunctionName>\\r\\n                        <ogc:FunctionName nArgs=\"2\">within</ogc:FunctionName>\\r\\n                    </ogc:FunctionNames>\\r\\n                </ogc:Functions>\\r\\n            </ogc:ArithmeticOperators>\\r\\n        </ogc:Scalar_Capabilities>\\r\\n        <ogc:Id_Capabilities>\\r\\n            <ogc:FID />\\r\\n            <ogc:EID />\\r\\n        </ogc:Id_Capabilities>\\r\\n    </ogc:Filter_Capabilities>\\r\\n</wfs:WFS_Capabilities>'"
      ]
     },
     "execution_count": 8,
     "metadata": {},
     "output_type": "execute_result"
    }
   ],
   "source": [
    "# Solicitud de metadatos del servicio\n",
    "\n",
    "# Parámetros de la solicitud\n",
    "params = dict(service='WFS', version='1.1.0', request='GetCapabilities')\n",
    "\n",
    "# Solicitud\n",
    "response = requests.get(\"http://geos1pne.sirefor.go.cr/wfs\", params=params)\n",
    "\n",
    "# Despliegue del contenido de la respuesta\n",
    "response.content"
   ]
  },
  {
   "cell_type": "markdown",
   "id": "029f6639",
   "metadata": {},
   "source": [
    "Puede ver el XML de manera estructurada en [https://jsonformatter.org/xml-parser](https://jsonformatter.org/xml-parser)"
   ]
  },
  {
   "cell_type": "markdown",
   "id": "f9bba2b5",
   "metadata": {},
   "source": [
    "Operación [GetFeature](http://opengeospatial.github.io/e-learning/wfs/text/operations.html#getfeature):"
   ]
  },
  {
   "cell_type": "code",
   "execution_count": 9,
   "id": "145cac15",
   "metadata": {},
   "outputs": [],
   "source": [
    "# Solicitud de capa WFS de ASP mediante GET, para retornarse como JSON\n",
    "\n",
    "# Parámetros de la solicitud\n",
    "params = dict(service='WFS',\n",
    "              version='1.1.0', \n",
    "              request='GetFeature', \n",
    "              typeName='PNE:areas_silvestres_protegidas',\n",
    "              srsName='urn:ogc:def:crs:EPSG::4326',\n",
    "              outputFormat='json')\n",
    "\n",
    "# Solicitud\n",
    "response = requests.get(\"http://geos1pne.sirefor.go.cr/wfs\", params=params)"
   ]
  },
  {
   "cell_type": "code",
   "execution_count": 10,
   "id": "a59f00c2",
   "metadata": {},
   "outputs": [],
   "source": [
    "# Descarga de la respuesta en un archivo GeoJSON\n",
    "\n",
    "with open('datos/asp.geojson', 'w') as file:\n",
    "   dump(response.json(), file)"
   ]
  },
  {
   "cell_type": "markdown",
   "id": "06ba77e2",
   "metadata": {},
   "source": [
    "#### 2. Creación de un archivo GeoPackage con todas las capas"
   ]
  },
  {
   "cell_type": "markdown",
   "id": "0a7ad8f0",
   "metadata": {},
   "source": [
    "El archivo Geopackage se crea con el objetivo de mantener todas las capas en una misma estructura y así facilitar la manipulación de los datos."
   ]
  },
  {
   "cell_type": "markdown",
   "id": "f1893f6d",
   "metadata": {},
   "source": [
    "##### Registros de presencia de murciélagos"
   ]
  },
  {
   "cell_type": "code",
   "execution_count": 11,
   "id": "122b181a",
   "metadata": {},
   "outputs": [
    {
     "ename": "KeyboardInterrupt",
     "evalue": "",
     "output_type": "error",
     "traceback": [
      "\u001b[0;31m---------------------------------------------------------------------------\u001b[0m",
      "\u001b[0;31mKeyboardInterrupt\u001b[0m                         Traceback (most recent call last)",
      "\u001b[0;32m/tmp/ipykernel_200712/1231377834.py\u001b[0m in \u001b[0;36m<module>\u001b[0;34m\u001b[0m\n\u001b[1;32m     19\u001b[0m         \u001b[0;32mfor\u001b[0m \u001b[0mrow\u001b[0m \u001b[0;32min\u001b[0m \u001b[0mreader\u001b[0m\u001b[0;34m:\u001b[0m\u001b[0;34m\u001b[0m\u001b[0;34m\u001b[0m\u001b[0m\n\u001b[1;32m     20\u001b[0m             \u001b[0mpoint\u001b[0m \u001b[0;34m=\u001b[0m \u001b[0mPoint\u001b[0m\u001b[0;34m(\u001b[0m\u001b[0mfloat\u001b[0m\u001b[0;34m(\u001b[0m\u001b[0mrow\u001b[0m\u001b[0;34m[\u001b[0m\u001b[0;34m'decimalLongitude'\u001b[0m\u001b[0;34m]\u001b[0m\u001b[0;34m)\u001b[0m\u001b[0;34m,\u001b[0m \u001b[0mfloat\u001b[0m\u001b[0;34m(\u001b[0m\u001b[0mrow\u001b[0m\u001b[0;34m[\u001b[0m\u001b[0;34m'decimalLatitude'\u001b[0m\u001b[0;34m]\u001b[0m\u001b[0;34m)\u001b[0m\u001b[0;34m)\u001b[0m\u001b[0;34m\u001b[0m\u001b[0;34m\u001b[0m\u001b[0m\n\u001b[0;32m---> 21\u001b[0;31m             collection.write({\n\u001b[0m\u001b[1;32m     22\u001b[0m                 'properties': {\n\u001b[1;32m     23\u001b[0m                     \u001b[0;34m'gbifID'\u001b[0m\u001b[0;34m:\u001b[0m\u001b[0mrow\u001b[0m\u001b[0;34m[\u001b[0m\u001b[0;34m'gbifID'\u001b[0m\u001b[0;34m]\u001b[0m\u001b[0;34m,\u001b[0m\u001b[0;34m\u001b[0m\u001b[0;34m\u001b[0m\u001b[0m\n",
      "\u001b[0;32m~/miniconda3/envs/pf3311/lib/python3.10/site-packages/fiona/collection.py\u001b[0m in \u001b[0;36mwrite\u001b[0;34m(self, record)\u001b[0m\n\u001b[1;32m    365\u001b[0m     \u001b[0;32mdef\u001b[0m \u001b[0mwrite\u001b[0m\u001b[0;34m(\u001b[0m\u001b[0mself\u001b[0m\u001b[0;34m,\u001b[0m \u001b[0mrecord\u001b[0m\u001b[0;34m)\u001b[0m\u001b[0;34m:\u001b[0m\u001b[0;34m\u001b[0m\u001b[0;34m\u001b[0m\u001b[0m\n\u001b[1;32m    366\u001b[0m         \u001b[0;34m\"\"\"Stages a record for writing to disk.\"\"\"\u001b[0m\u001b[0;34m\u001b[0m\u001b[0;34m\u001b[0m\u001b[0m\n\u001b[0;32m--> 367\u001b[0;31m         \u001b[0mself\u001b[0m\u001b[0;34m.\u001b[0m\u001b[0mwriterecords\u001b[0m\u001b[0;34m(\u001b[0m\u001b[0;34m[\u001b[0m\u001b[0mrecord\u001b[0m\u001b[0;34m]\u001b[0m\u001b[0;34m)\u001b[0m\u001b[0;34m\u001b[0m\u001b[0;34m\u001b[0m\u001b[0m\n\u001b[0m\u001b[1;32m    368\u001b[0m \u001b[0;34m\u001b[0m\u001b[0m\n\u001b[1;32m    369\u001b[0m     \u001b[0;32mdef\u001b[0m \u001b[0mvalidate_record\u001b[0m\u001b[0;34m(\u001b[0m\u001b[0mself\u001b[0m\u001b[0;34m,\u001b[0m \u001b[0mrecord\u001b[0m\u001b[0;34m)\u001b[0m\u001b[0;34m:\u001b[0m\u001b[0;34m\u001b[0m\u001b[0;34m\u001b[0m\u001b[0m\n",
      "\u001b[0;32m~/miniconda3/envs/pf3311/lib/python3.10/site-packages/fiona/collection.py\u001b[0m in \u001b[0;36mwriterecords\u001b[0;34m(self, records)\u001b[0m\n\u001b[1;32m    359\u001b[0m         \u001b[0;32mif\u001b[0m \u001b[0mself\u001b[0m\u001b[0;34m.\u001b[0m\u001b[0mmode\u001b[0m \u001b[0;32mnot\u001b[0m \u001b[0;32min\u001b[0m \u001b[0;34m(\u001b[0m\u001b[0;34m'a'\u001b[0m\u001b[0;34m,\u001b[0m \u001b[0;34m'w'\u001b[0m\u001b[0;34m)\u001b[0m\u001b[0;34m:\u001b[0m\u001b[0;34m\u001b[0m\u001b[0;34m\u001b[0m\u001b[0m\n\u001b[1;32m    360\u001b[0m             \u001b[0;32mraise\u001b[0m \u001b[0mIOError\u001b[0m\u001b[0;34m(\u001b[0m\u001b[0;34m\"collection not open for writing\"\u001b[0m\u001b[0;34m)\u001b[0m\u001b[0;34m\u001b[0m\u001b[0;34m\u001b[0m\u001b[0m\n\u001b[0;32m--> 361\u001b[0;31m         \u001b[0mself\u001b[0m\u001b[0;34m.\u001b[0m\u001b[0msession\u001b[0m\u001b[0;34m.\u001b[0m\u001b[0mwriterecs\u001b[0m\u001b[0;34m(\u001b[0m\u001b[0mrecords\u001b[0m\u001b[0;34m,\u001b[0m \u001b[0mself\u001b[0m\u001b[0;34m)\u001b[0m\u001b[0;34m\u001b[0m\u001b[0;34m\u001b[0m\u001b[0m\n\u001b[0m\u001b[1;32m    362\u001b[0m         \u001b[0mself\u001b[0m\u001b[0;34m.\u001b[0m\u001b[0m_len\u001b[0m \u001b[0;34m=\u001b[0m \u001b[0mself\u001b[0m\u001b[0;34m.\u001b[0m\u001b[0msession\u001b[0m\u001b[0;34m.\u001b[0m\u001b[0mget_length\u001b[0m\u001b[0;34m(\u001b[0m\u001b[0;34m)\u001b[0m\u001b[0;34m\u001b[0m\u001b[0;34m\u001b[0m\u001b[0m\n\u001b[1;32m    363\u001b[0m         \u001b[0mself\u001b[0m\u001b[0;34m.\u001b[0m\u001b[0m_bounds\u001b[0m \u001b[0;34m=\u001b[0m \u001b[0;32mNone\u001b[0m\u001b[0;34m\u001b[0m\u001b[0;34m\u001b[0m\u001b[0m\n",
      "\u001b[0;31mKeyboardInterrupt\u001b[0m: "
     ]
    }
   ],
   "source": [
    "# Esquema de la nueva capa de registros de presencia de murciélagos\n",
    "# Se incluyen solo los campos más importantes para el análisis\n",
    "schema = {'geometry':'Point',\n",
    "          'properties':{'gbifID':'str',\n",
    "                        'species':'str',\n",
    "                        'decimalLatitude':'float',\n",
    "                        'decimalLongitude':'float'\n",
    "                       }}\n",
    "\n",
    "# Inserción de registros en el archivo GeoPackage\n",
    "with fiona.collection('datos/distribucion-murcielagos.gpkg', \n",
    "                mode='w',\n",
    "                schema=schema,\n",
    "                driver='GPKG',\n",
    "                crs=fiona.crs.from_epsg(4326),\n",
    "                layer='registros-murcielagos') as collection:\n",
    "    with open('datos/murcielagos.csv') as file:\n",
    "        reader = csv.DictReader(file, delimiter='\\t')\n",
    "        for row in reader:\n",
    "            point = Point(float(row['decimalLongitude']), float(row['decimalLatitude']))\n",
    "            collection.write({\n",
    "                'properties': {\n",
    "                    'gbifID':row['gbifID'],\n",
    "                    'species':row['species'],\n",
    "                    'decimalLatitude':row['decimalLatitude'],\n",
    "                    'decimalLongitude':row['decimalLongitude']\n",
    "                },\n",
    "                'geometry':mapping(point)\n",
    "            })                        "
   ]
  },
  {
   "cell_type": "markdown",
   "id": "c7c75fb7",
   "metadata": {},
   "source": [
    "##### Áreas Silvestres Protegidas (ASP)"
   ]
  },
  {
   "cell_type": "code",
   "execution_count": null,
   "id": "0f84f978",
   "metadata": {},
   "outputs": [],
   "source": [
    "# Se agrega el archivo GeoJSON de ASP al GPKG\n",
    "\n",
    "with fiona.open('datos/asp.geojson') as source:\n",
    "    with fiona.open('datos/distribucion-murcielagos.gpkg', 'w', 'GPKG', source.schema, source.crs, layer='asp') as sink:\n",
    "        for record in source:\n",
    "            sink.write(record)"
   ]
  },
  {
   "cell_type": "markdown",
   "id": "2814320e",
   "metadata": {},
   "source": [
    "#### 3. Conteo de especies en cada polígono de las capas"
   ]
  },
  {
   "cell_type": "markdown",
   "id": "1fba8307",
   "metadata": {},
   "source": [
    "##### En ÁSP"
   ]
  },
  {
   "cell_type": "code",
   "execution_count": null,
   "id": "d285f847",
   "metadata": {},
   "outputs": [],
   "source": [
    "# Conteo de especies en ASP\n",
    "\n",
    "# Esquema de la capa con el total y la lista de especies por ASP\n",
    "schema = {'geometry':'Unknown',\n",
    "          'properties':{'id':'str',\n",
    "                        'nombre_asp':'str',\n",
    "                        'cantidad_especies':'int',\n",
    "                        'lista_especies':'str'\n",
    "                       }}\n",
    "\n",
    "with fiona.collection('datos/distribucion-murcielagos.gpkg', 'r', layer='asp') as asp:\n",
    "    \n",
    "    i = 1 # contador de ASP, para imprimir el progreso del procedimiento\n",
    "    \n",
    "    with fiona.open('datos/asp-especies.geojson','w','GeoJSON', schema, asp.crs) as sink:\n",
    "    \n",
    "        for record_asp in asp:\n",
    "            print(i, record_asp['properties']['siglas_cat'], record_asp['properties']['nombre_asp'])\n",
    "\n",
    "            species_set = set() # conjunto de especies en el ASP\n",
    "\n",
    "            with fiona.collection('datos/distribucion-murcielagos.gpkg', 'r', layer='registros-murcielagos') as registros:\n",
    "                for registro in registros:\n",
    "                    if (registro['properties']['species'] == ''):\n",
    "                        continue\n",
    "                    \n",
    "                    if shape(record_asp['geometry']).contains(shape(registro['geometry'])):\n",
    "                        species_set.add(registro['properties']['species'])\n",
    "\n",
    "            print(len(species_set))\n",
    "            print(', '.join(species_set))\n",
    "            print('\\n')\n",
    "\n",
    "            i += 1\n",
    "                \n",
    "            sink.write({\n",
    "                'properties': {\n",
    "                    'id':record_asp['properties']['id'],\n",
    "                    'nombre_asp':record_asp['properties']['nombre_asp'],\n",
    "                    'cantidad_especies':len(species_set),\n",
    "                    'lista_especies':', '.join(species_set)\n",
    "                },\n",
    "                'geometry':record_asp['geometry']\n",
    "            }) "
   ]
  },
  {
   "cell_type": "code",
   "execution_count": null,
   "id": "d955fdd0",
   "metadata": {},
   "outputs": [],
   "source": [
    "# Se agrega el archivo GeoJSON de asp-especies al GPKG\n",
    "\n",
    "with fiona.open('datos/asp-especies.geojson') as source:\n",
    "    with fiona.open('datos/distribucion-murcielagos.gpkg', 'w', 'GPKG', source.schema, source.crs, layer='asp-especies') as sink:\n",
    "        for record in source:\n",
    "            sink.write(record)"
   ]
  },
  {
   "cell_type": "code",
   "execution_count": null,
   "id": "52c7ffaa",
   "metadata": {},
   "outputs": [],
   "source": []
  }
 ],
 "metadata": {
  "kernelspec": {
   "display_name": "Python 3 (ipykernel)",
   "language": "python",
   "name": "python3"
  },
  "language_info": {
   "codemirror_mode": {
    "name": "ipython",
    "version": 3
   },
   "file_extension": ".py",
   "mimetype": "text/x-python",
   "name": "python",
   "nbconvert_exporter": "python",
   "pygments_lexer": "ipython3",
   "version": "3.10.1"
  }
 },
 "nbformat": 4,
 "nbformat_minor": 5
}