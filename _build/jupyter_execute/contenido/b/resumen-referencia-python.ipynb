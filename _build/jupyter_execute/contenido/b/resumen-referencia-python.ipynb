{
 "cells": [
  {
   "cell_type": "markdown",
   "metadata": {},
   "source": [
    "# Resumen de referencia de Python"
   ]
  },
  {
   "cell_type": "markdown",
   "metadata": {},
   "source": [
    "Este capítulo contiene un resumen de la sintaxis y la semántica base de Python. También puede consultar:\n",
    "\n",
    "- [Documentación oficial de Python](https://docs.python.org/)\n",
    "    - [Referencia del lenguaje Python](https://docs.python.org/3/reference/i)\n",
    "    - [La biblioteca estándar de Python](https://docs.python.org/3/library/index.html#library-index)\n",
    "    - [El tutorial de Python](https://docs.python.org/3/tutorial/index.html#tutorial-index)"
   ]
  },
  {
   "cell_type": "markdown",
   "metadata": {},
   "source": [
    "## Comentarios"
   ]
  },
  {
   "cell_type": "markdown",
   "metadata": {},
   "source": [
    "Python permite varios tipos de comentarios en el código fuente. Las convenciones generales para su uso se detallan en [PEP 8 -- Style Guide for Python Code - Comments](https://www.python.org/dev/peps/pep-0008/#comments)."
   ]
  },
  {
   "cell_type": "markdown",
   "metadata": {},
   "source": [
    "### De una línea"
   ]
  },
  {
   "cell_type": "markdown",
   "metadata": {},
   "source": [
    "Se definen con el símbolo `#` (*hash*). Por ejemplo:"
   ]
  },
  {
   "cell_type": "code",
   "execution_count": 1,
   "metadata": {},
   "outputs": [
    {
     "name": "stdout",
     "output_type": "stream",
     "text": [
      "El IMC es 25.26\n"
     ]
    }
   ],
   "source": [
    "# Cálculo del índice de masa corporal (IMC)\n",
    "\n",
    "peso = 73 # peso en kilogramos\n",
    "estatura = 1.70 # estatura en metros\n",
    "\n",
    "imc = peso/estatura**2\n",
    "\n",
    "print(\"El IMC es {imc:.2f}\".format(imc=imc))"
   ]
  },
  {
   "cell_type": "markdown",
   "metadata": {},
   "source": [
    "### De múltiples líneas"
   ]
  },
  {
   "cell_type": "markdown",
   "metadata": {},
   "source": [
    "Python no tiene soporte explícito para comentarios de varias líneas. Sin embargo, se pueden implementar de dos formas:"
   ]
  },
  {
   "cell_type": "markdown",
   "metadata": {},
   "source": [
    "1. Con varias líneas iniciadas con `#`:"
   ]
  },
  {
   "cell_type": "code",
   "execution_count": 2,
   "metadata": {},
   "outputs": [],
   "source": [
    "# Línea 1\n",
    "# Línea 2\n",
    "# Línea 3"
   ]
  },
  {
   "cell_type": "markdown",
   "metadata": {},
   "source": [
    "2. Con bloques de líneas delimitados con `\"\"\"` (tres comillas dobles) al inicio y al final:"
   ]
  },
  {
   "cell_type": "code",
   "execution_count": 3,
   "metadata": {},
   "outputs": [
    {
     "data": {
      "text/plain": [
       "'\\nLínea 1\\nLínea 2\\nLínea 3\\n'"
      ]
     },
     "execution_count": 3,
     "metadata": {},
     "output_type": "execute_result"
    }
   ],
   "source": [
    "\"\"\"\n",
    "Línea 1\n",
    "Línea 2\n",
    "Línea 3\n",
    "\"\"\""
   ]
  },
  {
   "cell_type": "markdown",
   "metadata": {},
   "source": [
    "### docstrings"
   ]
  },
  {
   "cell_type": "markdown",
   "metadata": {},
   "source": [
    "Las *docstrings* son una forma de documentar módulos, funciones, clases y métodos de Python. Se agregan debajo del encabezado y están delimitados con `\"\"\"` (tres comillas dobles) al inicio y al final.\n",
    "\n",
    "Pueden contener una o varias líneas. En este último caso, la primera línea es una descripción corta y es seguida de una línea en blanco, previa a las líneas restantes. Deben iniciar con mayúscula y finalizar con punto."
   ]
  },
  {
   "cell_type": "markdown",
   "metadata": {},
   "source": [
    "*docstring* de una línea:"
   ]
  },
  {
   "cell_type": "code",
   "execution_count": 4,
   "metadata": {},
   "outputs": [
    {
     "name": "stdout",
     "output_type": "stream",
     "text": [
      "Cálculo del índice de masa corporal (IMC).\n"
     ]
    }
   ],
   "source": [
    "def imc(peso, estatura):\n",
    "    \"\"\"Cálculo del índice de masa corporal (IMC).\"\"\"\n",
    "    return peso/estatura**2\n",
    "\n",
    "print(imc.__doc__)"
   ]
  },
  {
   "cell_type": "markdown",
   "metadata": {},
   "source": [
    "*docstring* de varias líneas:"
   ]
  },
  {
   "cell_type": "code",
   "execution_count": 5,
   "metadata": {},
   "outputs": [
    {
     "name": "stdout",
     "output_type": "stream",
     "text": [
      "Cálculo del índice de masa corporal (IMC)\n",
      "    \n",
      "    El IMC es una razón matemática que asocia el peso y la estatura de un individuo, \n",
      "    ideada por el estadístico belga Adolphe Quetelet, \n",
      "    por lo que también se conoce como índice de Quetelet. \n",
      "    \n"
     ]
    }
   ],
   "source": [
    "def imc2(peso, estatura):\n",
    "    \"\"\"Cálculo del índice de masa corporal (IMC)\n",
    "    \n",
    "    El IMC es una razón matemática que asocia el peso y la estatura de un individuo, \n",
    "    ideada por el estadístico belga Adolphe Quetelet, \n",
    "    por lo que también se conoce como índice de Quetelet. \n",
    "    \"\"\"\n",
    "    \n",
    "    return peso/estatura**2\n",
    "\n",
    "print(imc2.__doc__)"
   ]
  },
  {
   "cell_type": "markdown",
   "metadata": {},
   "source": [
    "Varias herramientas pueden generar documentación a partir de *docstrings*. Entre estas, pueden mencionarse [Doxygen](http://www.doxygen.nl/), [pydoc](https://docs.python.org/3/library/pydoc.html) y [Sphinx](https://www.sphinx-doc.org/).\n",
    "\n",
    "Las convenciones para el uso de *docstrings* se detallan en [PEP 257 -- Docstring Conventions](https://www.python.org/dev/peps/pep-0257/)."
   ]
  },
  {
   "cell_type": "markdown",
   "metadata": {},
   "source": [
    "## Tipos de datos\n",
    "Python puede trabajar con una gran variedad de tipos de datos, entre los que están los siguientes:\n",
    "\n",
    "<table>\n",
    "\n",
    "<tr><th>Nombre</th><th>Palabra reservada</th><th>Descripción</th></tr>\n",
    "\n",
    "<tr><td>Enteros</td><td>int</td><td>Números enteros: 0, 20, -34</td></tr>\n",
    "<tr><td>Punto flotante</td><td>float</td><td>Números con punto decimal: 0.1, 35.0, -100.5</td></tr>\n",
    "<tr><td>Booleanos</td><td>bool</td><td>Valores lógicos de <strong>True</strong> (verdadero) o <strong>False</strong> (falso)</td></tr>\n",
    "<tr><td>Hileras</td><td>str</td><td>Secuencias ordenadas de caracteres: \"Python\", \"Hola mundo\"</td></tr>\n",
    "<tr><td>Listas</td><td>list</td><td>Secuencias ordenadas de objetos: [1, 2, 3, \"cuatro\", True, [5, 6, 7]]</td></tr>\n",
    "<tr><td>Tuplas</td><td>tuple</td><td>Secuencias ordenadas inmutables de objetos: (\"tres\", [23, 34], -89, False)</td></tr>\n",
    "<tr><td>Conjuntos</td><td>set</td><td>Colecciones no ordenadas de objetos: {1, 2, \"a\", \"b\"}</td></tr>\n",
    "<tr><td>Diccionarios</td><td>dict</td><td>Pares ordenados atributo:valor: {\"nombre\":\"Juan\", \"apellido\":\"Pérez\"}</td></tr>\n",
    "\n",
    "</table>\n",
    "\n",
    "Existen otros tipos de datos más especializados (ej. fechas, horas, enumerados) que pueden consultarse en la [documentación oficial de Python sobre tipos de datos](https://docs.python.org/3/library/datatypes.html)."
   ]
  },
  {
   "cell_type": "markdown",
   "metadata": {},
   "source": [
    "### La función type()\n",
    "La función [type()](https://docs.python.org/3/library/functions.html#type) retorna el tipo del objeto que recibe como argumento."
   ]
  },
  {
   "cell_type": "code",
   "execution_count": 6,
   "metadata": {},
   "outputs": [
    {
     "data": {
      "text/plain": [
       "int"
      ]
     },
     "execution_count": 6,
     "metadata": {},
     "output_type": "execute_result"
    }
   ],
   "source": [
    "type(25)"
   ]
  },
  {
   "cell_type": "code",
   "execution_count": 7,
   "metadata": {},
   "outputs": [
    {
     "data": {
      "text/plain": [
       "str"
      ]
     },
     "execution_count": 7,
     "metadata": {},
     "output_type": "execute_result"
    }
   ],
   "source": [
    "type(\"Costa Rica\")"
   ]
  },
  {
   "cell_type": "code",
   "execution_count": 8,
   "metadata": {},
   "outputs": [
    {
     "data": {
      "text/plain": [
       "list"
      ]
     },
     "execution_count": 8,
     "metadata": {},
     "output_type": "execute_result"
    }
   ],
   "source": [
    "type([1, 2, 3])"
   ]
  },
  {
   "cell_type": "code",
   "execution_count": 9,
   "metadata": {},
   "outputs": [
    {
     "data": {
      "text/plain": [
       "bool"
      ]
     },
     "execution_count": 9,
     "metadata": {},
     "output_type": "execute_result"
    }
   ],
   "source": [
    "type(2 > 5)"
   ]
  },
  {
   "cell_type": "markdown",
   "metadata": {},
   "source": [
    "## Variables\n",
    "Una variable es un nombre que se asigna a un espacio en la memoria del computador que contiene un valor. El valor se asigna mediante el operador `=`."
   ]
  },
  {
   "cell_type": "code",
   "execution_count": 10,
   "metadata": {},
   "outputs": [
    {
     "name": "stdout",
     "output_type": "stream",
     "text": [
      "10\n",
      "<class 'int'>\n"
     ]
    }
   ],
   "source": [
    "# A la variable x se le asigna el valor 10\n",
    "x = 10\n",
    "print(x)\n",
    "print(type(x))"
   ]
  },
  {
   "cell_type": "code",
   "execution_count": 11,
   "metadata": {},
   "outputs": [
    {
     "name": "stdout",
     "output_type": "stream",
     "text": [
      "Patricia\n",
      "<class 'str'>\n"
     ]
    }
   ],
   "source": [
    "# A la variable nombre se le asigna el valor \"Patricia\"\n",
    "nombre = \"Patricia\"\n",
    "print(nombre)\n",
    "print(type(nombre))"
   ]
  },
  {
   "cell_type": "code",
   "execution_count": 12,
   "metadata": {},
   "outputs": [
    {
     "name": "stdout",
     "output_type": "stream",
     "text": [
      "[2, 3, 5, 7, 11, 13, 17]\n",
      "<class 'list'>\n"
     ]
    }
   ],
   "source": [
    "# A la variable lista_primos se le asigna una lista de números primos\n",
    "lista_primos = [2, 3, 5, 7, 11, 13, 17]\n",
    "print(lista_primos)\n",
    "print(type(lista_primos))"
   ]
  },
  {
   "cell_type": "code",
   "execution_count": 13,
   "metadata": {},
   "outputs": [
    {
     "name": "stdout",
     "output_type": "stream",
     "text": [
      "1\n",
      "2\n"
     ]
    }
   ],
   "source": [
    "# Una variable puede cambiar de valor durante la ejecución del programa\n",
    "i = 1\n",
    "print(i)\n",
    "i = i + 1\n",
    "print(i)"
   ]
  },
  {
   "cell_type": "code",
   "execution_count": 14,
   "metadata": {},
   "outputs": [
    {
     "name": "stdout",
     "output_type": "stream",
     "text": [
      "30\n"
     ]
    }
   ],
   "source": [
    "# El valor de una variable pueden asignarse con base en los de otras variable\n",
    "x = 20\n",
    "y = 10\n",
    "z = x + y\n",
    "print(z)"
   ]
  },
  {
   "cell_type": "markdown",
   "metadata": {},
   "source": [
    "### Reglas para los nombres de variables\n",
    "- No pueden empezar con un número (sí pueden usarse números en el resto del nombre).\n",
    "- No pueden contener espacios (se sugiere usar el guión bajo: `_`).\n",
    "- No pueden contener ninguno de los siguientes símbolos: `'\",<>:/?|\\!@#%^&*~-+`.\n",
    "- No deben utilizarse [palabras reservadas de Python](https://docs.python.org/3/reference/lexical_analysis.html#keywords).\n",
    "- Se considera una [buena práctica utilizar nombres en minúscula y con guiones bajos](https://www.python.org/dev/peps/pep-0008/#function-and-variable-names), para así mejorar la legibilidad.\n",
    "- Es importante utilizar nombres significativos para las variables, que reflejen su propósito."
   ]
  },
  {
   "cell_type": "markdown",
   "metadata": {},
   "source": [
    "Las variables mejoran la legibilidad de los procesos:"
   ]
  },
  {
   "cell_type": "code",
   "execution_count": 15,
   "metadata": {},
   "outputs": [
    {
     "data": {
      "text/plain": [
       "13000.0"
      ]
     },
     "execution_count": 15,
     "metadata": {},
     "output_type": "execute_result"
    }
   ],
   "source": [
    "# Cálculo del impuesto de ventas, sin variables\n",
    "100000 * 0.13"
   ]
  },
  {
   "cell_type": "code",
   "execution_count": 16,
   "metadata": {},
   "outputs": [
    {
     "name": "stdout",
     "output_type": "stream",
     "text": [
      "13000.0\n"
     ]
    }
   ],
   "source": [
    "# Cálculo del impuesto de ventas, con variables\n",
    "\n",
    "# Entrada\n",
    "precio_articulo = 100000\n",
    "tasa_impuesto = 0.13\n",
    "\n",
    "# Proceso\n",
    "monto_impuesto = precio_articulo * tasa_impuesto\n",
    "\n",
    "# Salida\n",
    "print(monto_impuesto)"
   ]
  },
  {
   "cell_type": "markdown",
   "metadata": {},
   "source": [
    "### Ejercicios"
   ]
  },
  {
   "cell_type": "markdown",
   "metadata": {},
   "source": [
    "**Ejercicio 1**  \n",
    "Utilice variables en un programa que covierta grados Celsius a Fahrenheit. Puede consultar la fórmula en https://www.rapidtables.com/convert/temperature/celsius-to-fahrenheit.html"
   ]
  },
  {
   "cell_type": "code",
   "execution_count": 17,
   "metadata": {},
   "outputs": [],
   "source": [
    "# Entrada\n",
    "\n",
    "# Proceso\n",
    "\n",
    "# Salida"
   ]
  },
  {
   "cell_type": "markdown",
   "metadata": {},
   "source": [
    "**Ejercicio 2**  \n",
    "Utilice variables en un programa que calcule el índice de masa corporal. Pueden consultar la fórmula en [https://www.diabetes.ca/diabetes-and-you/healthy-living-resources/weight-management/body-mass-index-bmi-calculator](https://www.diabetes.ca/diabetes-and-you/healthy-living-resources/weight-management/body-mass-index-bmi-calculator)"
   ]
  },
  {
   "cell_type": "code",
   "execution_count": 18,
   "metadata": {},
   "outputs": [],
   "source": [
    "# Entrada\n",
    "\n",
    "# Proceso\n",
    "\n",
    "# Salida"
   ]
  },
  {
   "cell_type": "markdown",
   "metadata": {},
   "source": [
    "## Expresiones"
   ]
  },
  {
   "cell_type": "markdown",
   "metadata": {},
   "source": [
    "En Python, una [expresión](https://docs.python.org/3/reference/expressions.html) es una combinación de:\n",
    "* [Literales](https://docs.python.org/3/reference/lexical_analysis.html#literals): valores constantes de números, hileras, listas, booleanos y otros tipos de datos.\n",
    "* Variables.\n",
    "* Los dos anteriores combinados mediante [operadores](https://docs.python.org/3/reference/lexical_analysis.html#operators) o funciones.\n",
    "\n",
    "**Una expresión tiene un valor numérico, textual, booleano o de otro tipo**. En las secciones siguientes se brindan algunos ejemplos de expresiones.\n",
    "\n",
    "**NOTA:** al escribir una expresión en la línea de comandos del interpretador de Python o en un _notebook_, esta retorna su valor. Sin embargo, esto no sucede en un programa. En este último caso, si se quiere visualizar el valor de una expresión, debe imprimirse con la función **print()**, por ejemplo."
   ]
  },
  {
   "cell_type": "markdown",
   "metadata": {},
   "source": [
    "Para los ejemplos siguientes, se definen las variables:"
   ]
  },
  {
   "cell_type": "code",
   "execution_count": 19,
   "metadata": {},
   "outputs": [],
   "source": [
    "x = 20\n",
    "y = 21.5\n",
    "h = \"Python\""
   ]
  },
  {
   "cell_type": "markdown",
   "metadata": {},
   "source": [
    "### Aritméticas"
   ]
  },
  {
   "cell_type": "markdown",
   "metadata": {},
   "source": [
    "Se utilizan para realizar operaciones matemáticas con números enteros, complejos o de punto flotante."
   ]
  },
  {
   "cell_type": "markdown",
   "metadata": {},
   "source": [
    "#### Operadores aritméticos\n",
    "\n",
    "<table>\n",
    "\n",
    "<tr><th>Operador</th><th>Descripción</th><th>Ejemplo</th></tr>\n",
    "\n",
    "<tr><td>+</td><td>Suma</td><td>4 + 3 (= 7)</td></tr>\n",
    "<tr><td>-</td><td>Resta</td><td>10 - 5 (= 5)</td></tr>\n",
    "<tr><td>*</td><td>Multiplicación</td><td>3 * 4 (= 12)</td></tr>\n",
    "<tr><td>/</td><td>División</td><td>5 / 2 (= 2.5)</td></tr>\n",
    "<tr><td>//</td><td>División entera</td><td>5 // 2 (= 2)</td></tr>\n",
    "<tr><td>%</td><td>Módulo</td><td>5 % 2 (= 1)</td></tr>\n",
    "<tr><td>**</td><td>Exponenciación</td><td>2 ** 3 (= 8)</td></tr>\n",
    "</table>"
   ]
  },
  {
   "cell_type": "markdown",
   "metadata": {},
   "source": [
    "#### Ejemplos"
   ]
  },
  {
   "cell_type": "code",
   "execution_count": 20,
   "metadata": {},
   "outputs": [
    {
     "data": {
      "text/plain": [
       "0"
      ]
     },
     "execution_count": 20,
     "metadata": {},
     "output_type": "execute_result"
    }
   ],
   "source": [
    "# Literal\n",
    "0"
   ]
  },
  {
   "cell_type": "code",
   "execution_count": 21,
   "metadata": {},
   "outputs": [
    {
     "data": {
      "text/plain": [
       "20"
      ]
     },
     "execution_count": 21,
     "metadata": {},
     "output_type": "execute_result"
    }
   ],
   "source": [
    "# Variable\n",
    "x"
   ]
  },
  {
   "cell_type": "code",
   "execution_count": 22,
   "metadata": {},
   "outputs": [
    {
     "data": {
      "text/plain": [
       "55"
      ]
     },
     "execution_count": 22,
     "metadata": {},
     "output_type": "execute_result"
    }
   ],
   "source": [
    "# Literal, variable, operador aritmético y función\n",
    "34 + int(y)"
   ]
  },
  {
   "cell_type": "markdown",
   "metadata": {},
   "source": [
    "### Booleanas"
   ]
  },
  {
   "cell_type": "markdown",
   "metadata": {},
   "source": [
    "Se les llama también expresiones lógicas. Tienen solamente dos posibles valores:\n",
    "* **True** (verdadero)\n",
    "* **False** (falso)\n",
    "\n",
    "Son sumamente importantes en Python (y en otros lenguajes de programación) porque con base en expresiones boolenanas se construyen sentencias como condicionales y ciclos."
   ]
  },
  {
   "cell_type": "markdown",
   "metadata": {},
   "source": [
    "#### Operadores booleanos"
   ]
  },
  {
   "cell_type": "markdown",
   "metadata": {},
   "source": [
    "<table>\n",
    "\n",
    "<tr><th>Operador</th><th>Descripción</th><th>Ejemplo</th></tr>\n",
    "\n",
    "<tr><td>and</td><td>Retorna <strong>True</strong> si ambos operandos son verdaderos y <strong>False</strong> en caso contrario</td><td>(1 < 2) and (4 > 3) [= True]</td></tr>\n",
    "<tr><td>or</td><td>Retorna <strong>True</strong> si al menos uno de los operados es verdadero y <strong>False</strong> en caso contrario</td><td>(10 > 20) or (40 < 30) [= False]</td></tr>\n",
    "<tr><td>not</td><td>Retorna <strong>True</strong> si el operando el falso  y <strong>False</strong> en caso contrario</td><td>not (4 > 2) [= False]</td></tr>\n",
    "</table>"
   ]
  },
  {
   "cell_type": "markdown",
   "metadata": {},
   "source": [
    "#### Operadores relacionales"
   ]
  },
  {
   "cell_type": "markdown",
   "metadata": {},
   "source": [
    "Con frecuencia, las expresiones boolenas incluyen operadores relacionales (de comparación).\n",
    "<table>\n",
    "\n",
    "<tr><th>Operador</th><th>Descripción</th><th>Ejemplo</th></tr>\n",
    "\n",
    "<tr><td>==</td><td>Igual</td><td>(3 + 1) == (2 ** 2)</td></tr>\n",
    "<tr><td>!=</td><td>Diferente</td><td>0 != 1</td></tr>\n",
    "<tr><td>></td><td>Mayor que</td><td>3 > 2</td></tr>\n",
    "<tr><td><</td><td>Menor que</td><td>2 < 3</td></tr>\n",
    "<tr><td>>=</td><td>Mayor o igual que</td><td>3 >= (2 + 1)</td></tr>\n",
    "<tr><td><=</td><td>Menor o igual que</td><td>2 <= 5</td></tr>\n",
    "\n",
    "</table>"
   ]
  },
  {
   "cell_type": "markdown",
   "metadata": {},
   "source": [
    "#### Ejemplos"
   ]
  },
  {
   "cell_type": "code",
   "execution_count": 23,
   "metadata": {},
   "outputs": [
    {
     "data": {
      "text/plain": [
       "True"
      ]
     },
     "execution_count": 23,
     "metadata": {},
     "output_type": "execute_result"
    }
   ],
   "source": [
    "# Literal\n",
    "True"
   ]
  },
  {
   "cell_type": "code",
   "execution_count": 24,
   "metadata": {},
   "outputs": [
    {
     "data": {
      "text/plain": [
       "True"
      ]
     },
     "execution_count": 24,
     "metadata": {},
     "output_type": "execute_result"
    }
   ],
   "source": [
    "# Literal y variable\n",
    "x == 20"
   ]
  },
  {
   "cell_type": "code",
   "execution_count": 25,
   "metadata": {},
   "outputs": [
    {
     "data": {
      "text/plain": [
       "False"
      ]
     },
     "execution_count": 25,
     "metadata": {},
     "output_type": "execute_result"
    }
   ],
   "source": [
    "# Literal, variable y operador\n",
    "x > 100"
   ]
  },
  {
   "cell_type": "code",
   "execution_count": 26,
   "metadata": {},
   "outputs": [
    {
     "data": {
      "text/plain": [
       "True"
      ]
     },
     "execution_count": 26,
     "metadata": {},
     "output_type": "execute_result"
    }
   ],
   "source": [
    "# Literales, variables, operador aritmético y operador relacional\n",
    "(x + 45) > 10 "
   ]
  },
  {
   "cell_type": "code",
   "execution_count": 27,
   "metadata": {},
   "outputs": [
    {
     "data": {
      "text/plain": [
       "False"
      ]
     },
     "execution_count": 27,
     "metadata": {},
     "output_type": "execute_result"
    }
   ],
   "source": [
    "# Literales, variables, operadores aritméticos, operadores relacionales y operadores lógicos\n",
    "((x + 45) > 10) and ((y - 20) <= 0)"
   ]
  },
  {
   "cell_type": "markdown",
   "metadata": {},
   "source": [
    "### Otras"
   ]
  },
  {
   "cell_type": "code",
   "execution_count": 28,
   "metadata": {},
   "outputs": [
    {
     "data": {
      "text/plain": [
       "'Hola Python'"
      ]
     },
     "execution_count": 28,
     "metadata": {},
     "output_type": "execute_result"
    }
   ],
   "source": [
    "# Hileras\n",
    "\"Hola \" + h"
   ]
  },
  {
   "cell_type": "code",
   "execution_count": 29,
   "metadata": {},
   "outputs": [
    {
     "data": {
      "text/plain": [
       "[1, 2, 3, 'a', 'b', 'c']"
      ]
     },
     "execution_count": 29,
     "metadata": {},
     "output_type": "execute_result"
    }
   ],
   "source": [
    "# Listas\n",
    "[1, 2, 3] + [\"a\", \"b\", \"c\"]"
   ]
  },
  {
   "cell_type": "markdown",
   "metadata": {},
   "source": [
    "## Condicionales"
   ]
  },
  {
   "cell_type": "markdown",
   "metadata": {},
   "source": [
    "Los condicionales son instrucciones que permiten evaluar condiciones (i.e. expresiones lógicas) y alterar el flujo del programa de acuerdo con su valor."
   ]
  },
  {
   "cell_type": "markdown",
   "metadata": {},
   "source": [
    "### La sentencia if"
   ]
  },
  {
   "cell_type": "markdown",
   "metadata": {},
   "source": [
    "En Python, los condicionales se implementan a través de la sentencia [if](https://docs.python.org/3/reference/compound_stmts.html#the-if-statement). En su forma más básica, tiene la siguiente estructura:\n",
    "\n",
    "```python\n",
    "if <condición>:\n",
    "    <bloque de sentencias>\n",
    "```\n",
    "\n",
    "<condición> es una expresión lógica (que es verdadera o falsa). Si la condición es verdadera, se ejecutará el bloque de sentencias que está luego de los dos puntos (:). En Python, un bloque de instrucciones se identifica por la cantidad de espacios que lo tabulan.\n",
    "\n",
    "Por ejemplo:"
   ]
  },
  {
   "cell_type": "code",
   "execution_count": 30,
   "metadata": {},
   "outputs": [
    {
     "name": "stdout",
     "output_type": "stream",
     "text": [
      "Inicio del programa.\n",
      "Este programa indica si una persona es menor de edad.\n",
      "\n",
      "\n",
      "- La persona es MENOR.\n",
      "- No puede votar en las elecciones presidenciales.\n",
      "- No puede tener licencia para conducir automóviles.\n",
      "\n",
      "\n",
      "Fin del programa.\n"
     ]
    }
   ],
   "source": [
    "print(\"Inicio del programa.\")\n",
    "print(\"Este programa indica si una persona es menor de edad.\")\n",
    "print(\"\\n\")\n",
    "\n",
    "edad = 15\n",
    "if edad < 18:\n",
    "    print(\"- La persona es MENOR.\")\n",
    "    print(\"- No puede votar en las elecciones presidenciales.\")\n",
    "    print(\"- No puede tener licencia para conducir automóviles.\")\n",
    "    \n",
    "print(\"\\n\")    \n",
    "print(\"Fin del programa.\")"
   ]
  },
  {
   "cell_type": "markdown",
   "metadata": {},
   "source": [
    "Después de ejecutar el bloque (si se cumple la condición), el programa continua ejecutando las instrucciones que están fuera del bloque, si es que las hay."
   ]
  },
  {
   "cell_type": "markdown",
   "metadata": {},
   "source": [
    "#### La cláusula else"
   ]
  },
  {
   "cell_type": "markdown",
   "metadata": {},
   "source": [
    "Es una cláusula opcional que se utiliza para especificar un bloque alterno que se ejecuta si no se cumple la condición del if. Tiene la siguiente estructura:\n",
    "\n",
    "```python\n",
    "if <condición>:\n",
    "    <bloque de sentencias>\n",
    "else:\n",
    "    <bloque de sentencias>\n",
    "```\n",
    "\n",
    "Solamente puede usarse una cláusula else en cada sentencia if. Por ejemplo:"
   ]
  },
  {
   "cell_type": "code",
   "execution_count": 31,
   "metadata": {},
   "outputs": [
    {
     "name": "stdout",
     "output_type": "stream",
     "text": [
      "Inicio del programa.\n",
      "Este programa indica si una persona es menor o adulta.\n",
      "\n",
      "\n",
      "- La persona es ADULTA.\n",
      "- Puede votar en las elecciones presidenciales.\n",
      "- Puede tener licencia para conducir automóviles.\n",
      "\n",
      "\n",
      "Fin del programa.\n"
     ]
    }
   ],
   "source": [
    "print(\"Inicio del programa.\")\n",
    "print(\"Este programa indica si una persona es menor o adulta.\")\n",
    "print(\"\\n\")\n",
    "\n",
    "edad = 22\n",
    "if edad < 18:\n",
    "    print(\"- La persona es MENOR.\")\n",
    "    print(\"- No puede votar en las elecciones presidenciales.\")\n",
    "    print(\"- No puede tener licencia para conducir automóviles.\")    \n",
    "else:\n",
    "    print(\"- La persona es ADULTA.\")\n",
    "    print(\"- Puede votar en las elecciones presidenciales.\")\n",
    "    print(\"- Puede tener licencia para conducir automóviles.\")\n",
    "    \n",
    "print(\"\\n\")    \n",
    "print(\"Fin del programa.\")"
   ]
  },
  {
   "cell_type": "markdown",
   "metadata": {},
   "source": [
    "#### La cláusula elif"
   ]
  },
  {
   "cell_type": "markdown",
   "metadata": {},
   "source": [
    "Es una cláusula opcional que permite especificar condiciones adicionales entre las cláusulas if y else. \n",
    "\n",
    "```python\n",
    "if <condición>:\n",
    "    <bloque de sentencias>\n",
    "elif <condición>:\n",
    "    <bloque de sentencias>\n",
    "else:\n",
    "    <bloque de sentencias>\n",
    "```    \n",
    "\n",
    "Puede usarse cualquier cantidad de cláusulas elif. La cláusula elif puede utilizarse sin la clásula else y viceversa.\n",
    "\n",
    "Ejemplo:"
   ]
  },
  {
   "cell_type": "code",
   "execution_count": 32,
   "metadata": {},
   "outputs": [
    {
     "name": "stdout",
     "output_type": "stream",
     "text": [
      "Inicio del programa.\n",
      "Este programa indica si una persona es menor, adulta o adulta mayor.\n",
      "\n",
      "\n",
      "- La persona es ADULTA MAYOR.\n",
      "- Puede votar en las elecciones presidenciales.\n",
      "- Puede tener licencia para conducir automóviles.\n",
      "- Tiene acceso gratuito al servicio público de autobuses.\n",
      "- Tiene prioridad en las filas de atención en bancos y otros servicios.\n",
      "\n",
      "\n",
      "Fin del programa.\n"
     ]
    }
   ],
   "source": [
    "print(\"Inicio del programa.\")\n",
    "print(\"Este programa indica si una persona es menor, adulta o adulta mayor.\")\n",
    "print(\"\\n\")\n",
    "\n",
    "edad = 65\n",
    "if edad < 18:\n",
    "    print(\"- La persona es MENOR.\")\n",
    "    print(\"- No puede votar en las elecciones presidenciales.\")\n",
    "    print(\"- No puede tener licencia para conducir automóviles.\")\n",
    "elif (edad >= 18) and (edad < 65):\n",
    "    print(\"- La persona es ADULTA.\")\n",
    "    print(\"- Puede votar en las elecciones presidenciales.\")\n",
    "    print(\"- Puede tener licencia para conducir automóviles.\")    \n",
    "else:\n",
    "    print(\"- La persona es ADULTA MAYOR.\")\n",
    "    print(\"- Puede votar en las elecciones presidenciales.\")\n",
    "    print(\"- Puede tener licencia para conducir automóviles.\")\n",
    "    print(\"- Tiene acceso gratuito al servicio público de autobuses.\")\n",
    "    print(\"- Tiene prioridad en las filas de atención en bancos y otros servicios.\")\n",
    "    \n",
    "print(\"\\n\")    \n",
    "print(\"Fin del programa.\")"
   ]
  },
  {
   "cell_type": "markdown",
   "metadata": {},
   "source": [
    "### Acerca de los bloques en Python"
   ]
  },
  {
   "cell_type": "markdown",
   "metadata": {},
   "source": [
    "Los bloques son conjuntos de sentencias contiguas que están tabulados con la misma cantidad de espacios. La cantidad de espacios puede ser decidida por el programador, pero [se recomienda usar cuatro espacios](https://www.python.org/dev/peps/pep-0008/#indentation).\n",
    "\n",
    "**NOTA:** deben utilizarse espacios y NO TABULADORES. Si se mezclan espacios y tabuladores, el programa puede comportarse de forma errónea."
   ]
  },
  {
   "cell_type": "markdown",
   "metadata": {},
   "source": [
    "### Ejercicios"
   ]
  },
  {
   "cell_type": "markdown",
   "metadata": {},
   "source": [
    "Escriba un programa que:\n",
    "* Le solicite al usuario su peso y su estatura.\n",
    "* Calcule su índice de masa corporal.\n",
    "* Indique el valor del índice y si este es considerado bajo (menor que 18.5), normal (entre 18.5 y 25) o alto (mayor o igual que 25).\n",
    "\n",
    "Los detalles del cálculo del índice están en [https://www.diabetes.ca/diabetes-and-you/healthy-living-resources/weight-management/body-mass-index-bmi-calculator](https://www.diabetes.ca/diabetes-and-you/healthy-living-resources/weight-management/body-mass-index-bmi-calculator)."
   ]
  }
 ],
 "metadata": {
  "kernelspec": {
   "display_name": "Python 3 (ipykernel)",
   "language": "python",
   "name": "python3"
  },
  "language_info": {
   "codemirror_mode": {
    "name": "ipython",
    "version": 3
   },
   "file_extension": ".py",
   "mimetype": "text/x-python",
   "name": "python",
   "nbconvert_exporter": "python",
   "pygments_lexer": "ipython3",
   "version": "3.10.1"
  }
 },
 "nbformat": 4,
 "nbformat_minor": 2
}